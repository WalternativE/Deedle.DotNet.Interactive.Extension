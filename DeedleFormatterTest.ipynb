{
  "cells": [
    {
      "cell_type": "code",
      "execution_count": null,
      "source": [
        "Remove-Item -Recurse -Force src/Deedle.DotNet.Interactive.Extension/bin\r\n",
        "\r\n",
        "dotnet build\r\n",
        "\r\n",
        "dotnet pack /p:PackageVersion=0.1.0-dev28\r\n",
        "\r\n",
        "Get-ChildItem -Recurse Deedle.DotNet.Interactive.Extension*.nupkg"
      ],
      "outputs": [],
      "metadata": {
        "dotnet_interactive": {
          "language": "pwsh"
        }
      }
    },
    {
      "cell_type": "code",
      "execution_count": null,
      "source": [
        "#r \"nuget: Deedle\""
      ],
      "outputs": [],
      "metadata": {
        "dotnet_interactive": {
          "language": "fsharp"
        }
      }
    },
    {
      "cell_type": "code",
      "execution_count": null,
      "source": [
        "// directive appears to be broken - use dotnet nuget add source <path> -n <name>\r\n",
        "// #i @\"nuget: C:\\Users\\gregor\\source\\repos\\Deedle.DotNet.Interactive.Extension\\src\\Deedle.DotNet.Interactive.Extension\\bin\\Debug\"\r\n",
        "#r \"nuget: Deedle.DotNet.Interactive.Extension, 0.1.0-dev26\""
      ],
      "outputs": [],
      "metadata": {
        "dotnet_interactive": {
          "language": "fsharp"
        }
      }
    },
    {
      "cell_type": "code",
      "execution_count": null,
      "source": [
        "open Deedle"
      ],
      "outputs": [],
      "metadata": {
        "dotnet_interactive": {
          "language": "fsharp"
        }
      }
    },
    {
      "cell_type": "code",
      "execution_count": null,
      "source": [
        "let seriesA =\r\n",
        "    [1..100]\r\n",
        "    |> Series.ofValues\r\n",
        "\r\n",
        "seriesA"
      ],
      "outputs": [],
      "metadata": {
        "dotnet_interactive": {
          "language": "fsharp"
        }
      }
    },
    {
      "cell_type": "code",
      "execution_count": null,
      "source": [
        "let seriesB =\r\n",
        "    List.init 100 (fun i ->\r\n",
        "        let currentNumber = i + 1\r\n",
        "        if currentNumber % 2 <> 0 then (i, None) else (i, Some currentNumber))\r\n",
        "    |> Series.ofOptionalObservations\r\n",
        "\r\n",
        "seriesB"
      ],
      "outputs": [],
      "metadata": {
        "dotnet_interactive": {
          "language": "fsharp"
        }
      }
    },
    {
      "cell_type": "code",
      "execution_count": null,
      "source": [
        "let frame =\r\n",
        "    [ (\"A\", seriesA); (\"B\", seriesB) ]\r\n",
        "    |> Frame.ofColumns\r\n",
        "\r\n",
        "frame"
      ],
      "outputs": [],
      "metadata": {
        "dotnet_interactive": {
          "language": "fsharp"
        }
      }
    },
    {
      "cell_type": "code",
      "execution_count": null,
      "source": [
        "// #r \"nuget: Microsoft.DotNet.Interactive.Formatting, 1.0.0-beta.21404.3\"\r\n",
        "#r \"nuget: Microsoft.DotNet.Interactive.ExtensionLab, 1.0.0-beta.21404.3\""
      ],
      "outputs": [],
      "metadata": {
        "dotnet_interactive": {
          "language": "fsharp"
        }
      }
    },
    {
      "cell_type": "code",
      "execution_count": null,
      "source": [
        "module ExploreDemos =\r\n",
        "    open Deedle.DotNet.Interactive.Extension.Formatting\r\n",
        "    open Microsoft.DotNet.Interactive.Formatting.TabularData\r\n",
        "\r\n",
        "    let exploreWithSandDance (frame: Frame<'a, 'b>) =\r\n",
        "        let tabularDataResource = toTabularDataResource frame\r\n",
        "        let explorer = tabularDataResource.ExploreWithSandDance()\r\n",
        "        explorer\r\n",
        "\r\n",
        "    let exploreWithNteract (frame: Frame<'a, 'b>) =\r\n",
        "        let tabularDataResource = toTabularDataResource frame\r\n",
        "        let explorer = tabularDataResource.ExploreWithNteract()\r\n",
        "        explorer"
      ],
      "outputs": [],
      "metadata": {
        "dotnet_interactive": {
          "language": "fsharp"
        }
      }
    },
    {
      "cell_type": "code",
      "execution_count": null,
      "source": [
        "let frame' =\r\n",
        "    frame\r\n",
        "    |> Frame.dropSparseRows\r\n",
        "    |> Frame.addCol \"C\" (Series.ofValues [ for x in 1 .. frame.RowCount do x * 2])"
      ],
      "outputs": [],
      "metadata": {
        "dotnet_interactive": {
          "language": "fsharp"
        }
      }
    },
    {
      "cell_type": "code",
      "execution_count": null,
      "source": [
        "ExploreDemos.exploreWithSandDance frame'"
      ],
      "outputs": [],
      "metadata": {
        "dotnet_interactive": {
          "language": "fsharp"
        }
      }
    },
    {
      "cell_type": "code",
      "execution_count": null,
      "source": [
        "ExploreDemos.exploreWithNteract frame'"
      ],
      "outputs": [],
      "metadata": {
        "dotnet_interactive": {
          "language": "fsharp"
        }
      }
    }
  ],
  "metadata": {
    "kernelspec": {
      "display_name": ".NET (C#)",
      "language": "C#",
      "name": ".net-csharp"
    },
    "language_info": {
      "file_extension": ".cs",
      "mimetype": "text/x-csharp",
      "name": "csharp",
      "pygments_lexer": "csharp",
      "version": "8.0"
    }
  },
  "nbformat": 4,
  "nbformat_minor": 4
}