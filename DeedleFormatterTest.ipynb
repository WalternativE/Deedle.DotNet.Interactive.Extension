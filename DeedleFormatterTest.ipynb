{
  "cells": [
    {
      "cell_type": "code",
      "execution_count": null,
      "metadata": {
        "dotnet_interactive": {
          "language": "pwsh"
        }
      },
      "outputs": [],
      "source": [
        "Remove-Item -Recurse -Force src/Deedle.DotNet.Interactive.Extension/bin\r\n",
        "\r\n",
        "dotnet build\r\n",
        "\r\n",
        "dotnet pack /p:PackageVersion=0.1.0-dev26\r\n",
        "\r\n",
        "Get-ChildItem -Recurse Deedle.DotNet.Interactive.Extension*.nupkg"
      ]
    },
    {
      "cell_type": "code",
      "execution_count": null,
      "metadata": {
        "dotnet_interactive": {
          "language": "fsharp"
        }
      },
      "outputs": [],
      "source": [
        "#r \"nuget: Deedle\""
      ]
    },
    {
      "cell_type": "code",
      "execution_count": null,
      "metadata": {
        "dotnet_interactive": {
          "language": "fsharp"
        }
      },
      "outputs": [],
      "source": [
        "#i \"nuget: C:/Users/grego/source/repos/Deedle.DotNet.Interactive.Extension/src/Deedle.DotNet.Interactive.Extension/bin/Debug\"\r\n",
        "#r \"nuget: Deedle.DotNet.Interactive.Extension, 0.1.0-dev26\""
      ]
    },
    {
      "cell_type": "code",
      "execution_count": null,
      "metadata": {
        "dotnet_interactive": {
          "language": "fsharp"
        }
      },
      "outputs": [],
      "source": [
        "open Deedle"
      ]
    },
    {
      "cell_type": "code",
      "execution_count": null,
      "metadata": {
        "dotnet_interactive": {
          "language": "fsharp"
        }
      },
      "outputs": [],
      "source": [
        "let seriesA =\n",
        "    [1..100]\n",
        "    |> Series.ofValues\n",
        "\n",
        "seriesA"
      ]
    },
    {
      "cell_type": "code",
      "execution_count": null,
      "metadata": {
        "dotnet_interactive": {
          "language": "fsharp"
        }
      },
      "outputs": [],
      "source": [
        "let seriesB =\n",
        "    List.init 100 (fun i ->\n",
        "        let currentNumber = i + 1\n",
        "        if currentNumber % 2 <> 0 then (i, None) else (i, Some currentNumber))\n",
        "    |> Series.ofOptionalObservations\n",
        "\n",
        "seriesB"
      ]
    },
    {
      "cell_type": "code",
      "execution_count": null,
      "metadata": {
        "dotnet_interactive": {
          "language": "fsharp"
        }
      },
      "outputs": [],
      "source": [
        "let frame =\n",
        "    [ (\"A\", seriesA); (\"B\", seriesB) ]\n",
        "    |> Frame.ofColumns\n",
        "\n",
        "frame"
      ]
    },
    {
      "cell_type": "code",
      "execution_count": null,
      "metadata": {
        "dotnet_interactive": {
          "language": "fsharp"
        }
      },
      "outputs": [],
      "source": [
        "#r \"nuget:Microsoft.DotNet.Interactive.ExtensionLab, *-*\""
      ]
    },
    {
      "cell_type": "code",
      "execution_count": null,
      "metadata": {
        "dotnet_interactive": {
          "language": "fsharp"
        }
      },
      "outputs": [],
      "source": [
        "module ExploreDemos =\r\n",
        "    open Deedle.DotNet.Interactive.Extension.Formatting\r\n",
        "    open Microsoft.DotNet.Interactive.Formatting\r\n",
        "\r\n",
        "    let exploreWithSandDance (frame: Frame<'a, 'b>) =\r\n",
        "        let tabularDataResource = toTabularDataResource frame\r\n",
        "        let explorer = tabularDataResource.ExploreWithSandDance()\r\n",
        "        explorer\r\n",
        "\r\n",
        "    let exploreWithNteract (frame: Frame<'a, 'b>) =\r\n",
        "        let tabularDataResource = toTabularDataResource frame\r\n",
        "        let explorer = tabularDataResource.ExploreWithNteract()\r\n",
        "        explorer"
      ]
    },
    {
      "cell_type": "code",
      "execution_count": null,
      "metadata": {
        "dotnet_interactive": {
          "language": "fsharp"
        }
      },
      "outputs": [],
      "source": [
        "let frame' =\n",
        "    frame\n",
        "    |> Frame.dropSparseRows\n",
        "    |> Frame.addCol \"C\" (Series.ofValues [ for x in 1 .. frame.RowCount do x * 2])"
      ]
    },
    {
      "cell_type": "code",
      "execution_count": null,
      "metadata": {
        "dotnet_interactive": {
          "language": "fsharp"
        }
      },
      "outputs": [],
      "source": [
        "ExploreDemos.exploreWithSandDance frame'"
      ]
    },
    {
      "cell_type": "code",
      "execution_count": null,
      "metadata": {
        "dotnet_interactive": {
          "language": "fsharp"
        }
      },
      "outputs": [],
      "source": [
        "ExploreDemos.exploreWithNteract frame'"
      ]
    }
  ],
  "metadata": {
    "kernelspec": {
      "display_name": ".NET (C#)",
      "language": "C#",
      "name": ".net-csharp"
    },
    "language_info": {
      "file_extension": ".cs",
      "mimetype": "text/x-csharp",
      "name": "csharp",
      "pygments_lexer": "csharp",
      "version": "8.0"
    }
  },
  "nbformat": 4,
  "nbformat_minor": 4
}