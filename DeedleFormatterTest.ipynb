{
  "cells": [
    {
      "cell_type": "code",
      "execution_count": 1,
      "metadata": {
        "dotnet_interactive": {
          "language": "pwsh"
        }
      },
      "source": [
        "Remove-Item -Recurse -Force src/Deedle.DotNet.Interactive.Extension/bin\n",
        "\n",
        "dotnet build\n",
        "\n",
        "dotnet pack /p:PackageVersion=0.1.0-dev21\n",
        "\n",
        "Get-ChildItem -Recurse Deedle.DotNet.Interactive.Extension*.nupkg"
      ],
      "outputs": [
        {
          "output_type": "execute_result",
          "data": {
            "text/plain": "Microsoft (R) Build Engine version 16.9.0+57a23d249 for .NET\n"
          },
          "execution_count": 1,
          "metadata": {}
        },
        {
          "output_type": "execute_result",
          "data": {
            "text/plain": "Copyright (C) Microsoft Corporation. All rights reserved.\n"
          },
          "execution_count": 1,
          "metadata": {}
        },
        {
          "output_type": "execute_result",
          "data": {
            "text/plain": "\n"
          },
          "execution_count": 1,
          "metadata": {}
        },
        {
          "output_type": "execute_result",
          "data": {
            "text/plain": "  Determining projects to restore...\n"
          },
          "execution_count": 1,
          "metadata": {}
        },
        {
          "output_type": "execute_result",
          "data": {
            "text/plain": "/home/gregor/source/repos/Deedle.DotNet.Interactive.Extension/src/Deedle.DotNet.Interactive.Extension/Deedle.DotNet.Interactive.Extension.fsproj : warning NU1605: Detected package downgrade: FSharp.Core from 5.0.2-beta.21102.10 to 5.0.1. Reference the package directly from the project to select a different version.  [/home/gregor/source/repos/Deedle.DotNet.Interactive.Extension/Deedle.DotNet.Interactive.Extension.sln]\n"
          },
          "execution_count": 1,
          "metadata": {}
        },
        {
          "output_type": "execute_result",
          "data": {
            "text/plain": "/home/gregor/source/repos/Deedle.DotNet.Interactive.Extension/src/Deedle.DotNet.Interactive.Extension/Deedle.DotNet.Interactive.Extension.fsproj : warning NU1605:  Deedle.DotNet.Interactive.Extension -> Microsoft.DotNet.Interactive.FSharp 1.0.0-beta.21155.3 -> FSharp.Core (>= 5.0.2-beta.21102.10)  [/home/gregor/source/repos/Deedle.DotNet.Interactive.Extension/Deedle.DotNet.Interactive.Extension.sln]\n"
          },
          "execution_count": 1,
          "metadata": {}
        },
        {
          "output_type": "execute_result",
          "data": {
            "text/plain": "/home/gregor/source/repos/Deedle.DotNet.Interactive.Extension/src/Deedle.DotNet.Interactive.Extension/Deedle.DotNet.Interactive.Extension.fsproj : warning NU1605:  Deedle.DotNet.Interactive.Extension -> FSharp.Core (>= 5.0.1) [/home/gregor/source/repos/Deedle.DotNet.Interactive.Extension/Deedle.DotNet.Interactive.Extension.sln]\n"
          },
          "execution_count": 1,
          "metadata": {}
        },
        {
          "output_type": "execute_result",
          "data": {
            "text/plain": "  All projects are up-to-date for restore.\n"
          },
          "execution_count": 1,
          "metadata": {}
        },
        {
          "output_type": "execute_result",
          "data": {
            "text/plain": "/home/gregor/source/repos/Deedle.DotNet.Interactive.Extension/src/Deedle.DotNet.Interactive.Extension/Deedle.DotNet.Interactive.Extension.fsproj : warning NU1605: Detected package downgrade: FSharp.Core from 5.0.2-beta.21102.10 to 5.0.1. Reference the package directly from the project to select a different version. \n"
          },
          "execution_count": 1,
          "metadata": {}
        },
        {
          "output_type": "execute_result",
          "data": {
            "text/plain": "/home/gregor/source/repos/Deedle.DotNet.Interactive.Extension/src/Deedle.DotNet.Interactive.Extension/Deedle.DotNet.Interactive.Extension.fsproj : warning NU1605:  Deedle.DotNet.Interactive.Extension -> Microsoft.DotNet.Interactive.FSharp 1.0.0-beta.21155.3 -> FSharp.Core (>= 5.0.2-beta.21102.10) \n"
          },
          "execution_count": 1,
          "metadata": {}
        },
        {
          "output_type": "execute_result",
          "data": {
            "text/plain": "/home/gregor/source/repos/Deedle.DotNet.Interactive.Extension/src/Deedle.DotNet.Interactive.Extension/Deedle.DotNet.Interactive.Extension.fsproj : warning NU1605:  Deedle.DotNet.Interactive.Extension -> FSharp.Core (>= 5.0.1)\n"
          },
          "execution_count": 1,
          "metadata": {}
        },
        {
          "output_type": "execute_result",
          "data": {
            "text/plain": "  Deedle.DotNet.Interactive.Extension -> /home/gregor/source/repos/Deedle.DotNet.Interactive.Extension/src/Deedle.DotNet.Interactive.Extension/bin/Debug/net5.0/Deedle.DotNet.Interactive.Extension.dll\n"
          },
          "execution_count": 1,
          "metadata": {}
        },
        {
          "output_type": "execute_result",
          "data": {
            "text/plain": "\n"
          },
          "execution_count": 1,
          "metadata": {}
        },
        {
          "output_type": "execute_result",
          "data": {
            "text/plain": "Build succeeded.\n"
          },
          "execution_count": 1,
          "metadata": {}
        },
        {
          "output_type": "execute_result",
          "data": {
            "text/plain": "\n"
          },
          "execution_count": 1,
          "metadata": {}
        },
        {
          "output_type": "execute_result",
          "data": {
            "text/plain": "/home/gregor/source/repos/Deedle.DotNet.Interactive.Extension/src/Deedle.DotNet.Interactive.Extension/Deedle.DotNet.Interactive.Extension.fsproj : warning NU1605: Detected package downgrade: FSharp.Core from 5.0.2-beta.21102.10 to 5.0.1. Reference the package directly from the project to select a different version.  [/home/gregor/source/repos/Deedle.DotNet.Interactive.Extension/Deedle.DotNet.Interactive.Extension.sln]\n"
          },
          "execution_count": 1,
          "metadata": {}
        },
        {
          "output_type": "execute_result",
          "data": {
            "text/plain": "/home/gregor/source/repos/Deedle.DotNet.Interactive.Extension/src/Deedle.DotNet.Interactive.Extension/Deedle.DotNet.Interactive.Extension.fsproj : warning NU1605:  Deedle.DotNet.Interactive.Extension -> Microsoft.DotNet.Interactive.FSharp 1.0.0-beta.21155.3 -> FSharp.Core (>= 5.0.2-beta.21102.10)  [/home/gregor/source/repos/Deedle.DotNet.Interactive.Extension/Deedle.DotNet.Interactive.Extension.sln]\n"
          },
          "execution_count": 1,
          "metadata": {}
        },
        {
          "output_type": "execute_result",
          "data": {
            "text/plain": "/home/gregor/source/repos/Deedle.DotNet.Interactive.Extension/src/Deedle.DotNet.Interactive.Extension/Deedle.DotNet.Interactive.Extension.fsproj : warning NU1605:  Deedle.DotNet.Interactive.Extension -> FSharp.Core (>= 5.0.1) [/home/gregor/source/repos/Deedle.DotNet.Interactive.Extension/Deedle.DotNet.Interactive.Extension.sln]\n"
          },
          "execution_count": 1,
          "metadata": {}
        },
        {
          "output_type": "execute_result",
          "data": {
            "text/plain": "/home/gregor/source/repos/Deedle.DotNet.Interactive.Extension/src/Deedle.DotNet.Interactive.Extension/Deedle.DotNet.Interactive.Extension.fsproj : warning NU1605: Detected package downgrade: FSharp.Core from 5.0.2-beta.21102.10 to 5.0.1. Reference the package directly from the project to select a different version. \n"
          },
          "execution_count": 1,
          "metadata": {}
        },
        {
          "output_type": "execute_result",
          "data": {
            "text/plain": "/home/gregor/source/repos/Deedle.DotNet.Interactive.Extension/src/Deedle.DotNet.Interactive.Extension/Deedle.DotNet.Interactive.Extension.fsproj : warning NU1605:  Deedle.DotNet.Interactive.Extension -> Microsoft.DotNet.Interactive.FSharp 1.0.0-beta.21155.3 -> FSharp.Core (>= 5.0.2-beta.21102.10) \n"
          },
          "execution_count": 1,
          "metadata": {}
        },
        {
          "output_type": "execute_result",
          "data": {
            "text/plain": "/home/gregor/source/repos/Deedle.DotNet.Interactive.Extension/src/Deedle.DotNet.Interactive.Extension/Deedle.DotNet.Interactive.Extension.fsproj : warning NU1605:  Deedle.DotNet.Interactive.Extension -> FSharp.Core (>= 5.0.1)\n"
          },
          "execution_count": 1,
          "metadata": {}
        },
        {
          "output_type": "execute_result",
          "data": {
            "text/plain": "    2 Warning(s)\n"
          },
          "execution_count": 1,
          "metadata": {}
        },
        {
          "output_type": "execute_result",
          "data": {
            "text/plain": "    0 Error(s)\n"
          },
          "execution_count": 1,
          "metadata": {}
        },
        {
          "output_type": "execute_result",
          "data": {
            "text/plain": "\n"
          },
          "execution_count": 1,
          "metadata": {}
        },
        {
          "output_type": "execute_result",
          "data": {
            "text/plain": "Time Elapsed 00:00:08.35\n"
          },
          "execution_count": 1,
          "metadata": {}
        },
        {
          "output_type": "execute_result",
          "data": {
            "text/plain": "Microsoft (R) Build Engine version 16.9.0+57a23d249 for .NET\n"
          },
          "execution_count": 1,
          "metadata": {}
        },
        {
          "output_type": "execute_result",
          "data": {
            "text/plain": "Copyright (C) Microsoft Corporation. All rights reserved.\n"
          },
          "execution_count": 1,
          "metadata": {}
        },
        {
          "output_type": "execute_result",
          "data": {
            "text/plain": "\n"
          },
          "execution_count": 1,
          "metadata": {}
        },
        {
          "output_type": "execute_result",
          "data": {
            "text/plain": "  Determining projects to restore...\n"
          },
          "execution_count": 1,
          "metadata": {}
        },
        {
          "output_type": "execute_result",
          "data": {
            "text/plain": "/home/gregor/source/repos/Deedle.DotNet.Interactive.Extension/src/Deedle.DotNet.Interactive.Extension/Deedle.DotNet.Interactive.Extension.fsproj : warning NU1605: Detected package downgrade: FSharp.Core from 5.0.2-beta.21102.10 to 5.0.1. Reference the package directly from the project to select a different version.  [/home/gregor/source/repos/Deedle.DotNet.Interactive.Extension/Deedle.DotNet.Interactive.Extension.sln]\n"
          },
          "execution_count": 1,
          "metadata": {}
        },
        {
          "output_type": "execute_result",
          "data": {
            "text/plain": "/home/gregor/source/repos/Deedle.DotNet.Interactive.Extension/src/Deedle.DotNet.Interactive.Extension/Deedle.DotNet.Interactive.Extension.fsproj : warning NU1605:  Deedle.DotNet.Interactive.Extension -> Microsoft.DotNet.Interactive.FSharp 1.0.0-beta.21155.3 -> FSharp.Core (>= 5.0.2-beta.21102.10)  [/home/gregor/source/repos/Deedle.DotNet.Interactive.Extension/Deedle.DotNet.Interactive.Extension.sln]\n"
          },
          "execution_count": 1,
          "metadata": {}
        },
        {
          "output_type": "execute_result",
          "data": {
            "text/plain": "/home/gregor/source/repos/Deedle.DotNet.Interactive.Extension/src/Deedle.DotNet.Interactive.Extension/Deedle.DotNet.Interactive.Extension.fsproj : warning NU1605:  Deedle.DotNet.Interactive.Extension -> FSharp.Core (>= 5.0.1) [/home/gregor/source/repos/Deedle.DotNet.Interactive.Extension/Deedle.DotNet.Interactive.Extension.sln]\n"
          },
          "execution_count": 1,
          "metadata": {}
        },
        {
          "output_type": "execute_result",
          "data": {
            "text/plain": "  Restored /home/gregor/source/repos/Deedle.DotNet.Interactive.Extension/src/Deedle.DotNet.Interactive.Extension/Deedle.DotNet.Interactive.Extension.fsproj (in 602 ms).\n"
          },
          "execution_count": 1,
          "metadata": {}
        },
        {
          "output_type": "execute_result",
          "data": {
            "text/plain": "/home/gregor/source/repos/Deedle.DotNet.Interactive.Extension/src/Deedle.DotNet.Interactive.Extension/Deedle.DotNet.Interactive.Extension.fsproj : warning NU1605: Detected package downgrade: FSharp.Core from 5.0.2-beta.21102.10 to 5.0.1. Reference the package directly from the project to select a different version. \n"
          },
          "execution_count": 1,
          "metadata": {}
        },
        {
          "output_type": "execute_result",
          "data": {
            "text/plain": "/home/gregor/source/repos/Deedle.DotNet.Interactive.Extension/src/Deedle.DotNet.Interactive.Extension/Deedle.DotNet.Interactive.Extension.fsproj : warning NU1605:  Deedle.DotNet.Interactive.Extension -> Microsoft.DotNet.Interactive.FSharp 1.0.0-beta.21155.3 -> FSharp.Core (>= 5.0.2-beta.21102.10) \n"
          },
          "execution_count": 1,
          "metadata": {}
        },
        {
          "output_type": "execute_result",
          "data": {
            "text/plain": "/home/gregor/source/repos/Deedle.DotNet.Interactive.Extension/src/Deedle.DotNet.Interactive.Extension/Deedle.DotNet.Interactive.Extension.fsproj : warning NU1605:  Deedle.DotNet.Interactive.Extension -> FSharp.Core (>= 5.0.1)\n"
          },
          "execution_count": 1,
          "metadata": {}
        },
        {
          "output_type": "execute_result",
          "data": {
            "text/plain": "  Deedle.DotNet.Interactive.Extension -> /home/gregor/source/repos/Deedle.DotNet.Interactive.Extension/src/Deedle.DotNet.Interactive.Extension/bin/Debug/net5.0/Deedle.DotNet.Interactive.Extension.dll\n"
          },
          "execution_count": 1,
          "metadata": {}
        },
        {
          "output_type": "execute_result",
          "data": {
            "text/plain": "/home/gregor/source/repos/Deedle.DotNet.Interactive.Extension/src/Deedle.DotNet.Interactive.Extension/Deedle.DotNet.Interactive.Extension.fsproj : warning NU1605: Detected package downgrade: FSharp.Core from 5.0.2-beta.21102.10 to 5.0.1. Reference the package directly from the project to select a different version. \n"
          },
          "execution_count": 1,
          "metadata": {}
        },
        {
          "output_type": "execute_result",
          "data": {
            "text/plain": "/home/gregor/source/repos/Deedle.DotNet.Interactive.Extension/src/Deedle.DotNet.Interactive.Extension/Deedle.DotNet.Interactive.Extension.fsproj : warning NU1605:  Deedle.DotNet.Interactive.Extension -> Microsoft.DotNet.Interactive.FSharp 1.0.0-beta.21155.3 -> FSharp.Core (>= 5.0.2-beta.21102.10) \n"
          },
          "execution_count": 1,
          "metadata": {}
        },
        {
          "output_type": "execute_result",
          "data": {
            "text/plain": "/home/gregor/source/repos/Deedle.DotNet.Interactive.Extension/src/Deedle.DotNet.Interactive.Extension/Deedle.DotNet.Interactive.Extension.fsproj : warning NU1605:  Deedle.DotNet.Interactive.Extension -> FSharp.Core (>= 5.0.1)\n"
          },
          "execution_count": 1,
          "metadata": {}
        },
        {
          "output_type": "execute_result",
          "data": {
            "text/plain": "/home/gregor/source/repos/Deedle.DotNet.Interactive.Extension/src/Deedle.DotNet.Interactive.Extension/Deedle.DotNet.Interactive.Extension.fsproj : warning NU1605: Detected package downgrade: FSharp.Core from 5.0.2-beta.21102.10 to 5.0.1. Reference the package directly from the project to select a different version. \n"
          },
          "execution_count": 1,
          "metadata": {}
        },
        {
          "output_type": "execute_result",
          "data": {
            "text/plain": "/home/gregor/source/repos/Deedle.DotNet.Interactive.Extension/src/Deedle.DotNet.Interactive.Extension/Deedle.DotNet.Interactive.Extension.fsproj : warning NU1605:  Deedle.DotNet.Interactive.Extension -> Microsoft.DotNet.Interactive.FSharp 1.0.0-beta.21155.3 -> FSharp.Core (>= 5.0.2-beta.21102.10) \n"
          },
          "execution_count": 1,
          "metadata": {}
        },
        {
          "output_type": "execute_result",
          "data": {
            "text/plain": "/home/gregor/source/repos/Deedle.DotNet.Interactive.Extension/src/Deedle.DotNet.Interactive.Extension/Deedle.DotNet.Interactive.Extension.fsproj : warning NU1605:  Deedle.DotNet.Interactive.Extension -> FSharp.Core (>= 5.0.1)\n"
          },
          "execution_count": 1,
          "metadata": {}
        },
        {
          "output_type": "execute_result",
          "data": {
            "text/plain": "  Successfully created package '/home/gregor/source/repos/Deedle.DotNet.Interactive.Extension/src/Deedle.DotNet.Interactive.Extension/bin/Debug/Deedle.DotNet.Interactive.Extension.0.1.0-dev21.nupkg'.\n"
          },
          "execution_count": 1,
          "metadata": {}
        },
        {
          "output_type": "execute_result",
          "data": {
            "text/plain": "\n"
          },
          "execution_count": 1,
          "metadata": {}
        },
        {
          "output_type": "execute_result",
          "data": {
            "text/plain": "    Directory: /home/gregor/source/repos/Deedle.DotNet.Interactive.Extension/src/Deedle.DotNet.Inte\n"
          },
          "execution_count": 1,
          "metadata": {}
        },
        {
          "output_type": "execute_result",
          "data": {
            "text/plain": "ractive.Extension/bin/Debug\n"
          },
          "execution_count": 1,
          "metadata": {}
        },
        {
          "output_type": "execute_result",
          "data": {
            "text/plain": "\n"
          },
          "execution_count": 1,
          "metadata": {}
        },
        {
          "output_type": "execute_result",
          "data": {
            "text/plain": "Mode                 LastWriteTime         Length Name\n"
          },
          "execution_count": 1,
          "metadata": {}
        },
        {
          "output_type": "execute_result",
          "data": {
            "text/plain": "----                 -------------         ------ ----\n"
          },
          "execution_count": 1,
          "metadata": {}
        },
        {
          "output_type": "execute_result",
          "data": {
            "text/plain": "-----          03/06/2021    15:00          29878 Deedle.DotNet.Interactive.Extension.0.1.0-dev21.n\n"
          },
          "execution_count": 1,
          "metadata": {}
        },
        {
          "output_type": "execute_result",
          "data": {
            "text/plain": "                                                  upkg\n"
          },
          "execution_count": 1,
          "metadata": {}
        },
        {
          "output_type": "execute_result",
          "data": {
            "text/plain": "\n"
          },
          "execution_count": 1,
          "metadata": {}
        }
      ]
    },
    {
      "cell_type": "code",
      "execution_count": 1,
      "metadata": {
        "dotnet_interactive": {
          "language": "fsharp"
        }
      },
      "source": [
        "#r \"nuget: Deedle\""
      ],
      "outputs": [
        {
          "output_type": "execute_result",
          "data": {
            "text/plain": "Installed package Deedle version 2.3.0"
          },
          "execution_count": 1,
          "metadata": {}
        }
      ]
    },
    {
      "cell_type": "code",
      "execution_count": 1,
      "metadata": {
        "dotnet_interactive": {
          "language": "fsharp"
        }
      },
      "source": [
        "#i \"nuget: /home/gregor/source/repos/Deedle.DotNet.Interactive.Extension/src/Deedle.DotNet.Interactive.Extension/bin/Debug\"\n",
        "#r \"nuget: Deedle.DotNet.Interactive.Extension,0.1.0-dev21\""
      ],
      "outputs": [
        {
          "output_type": "execute_result",
          "data": {
            "text/html": "<div><strong>Restore sources</strong><ul><li><span> /home/gregor/source/repos/Deedle.DotNet.Interactive.Extension/src/Deedle.DotNet.Interactive.Extension/bin/Debug</span></li></ul></div>"
          },
          "execution_count": 1,
          "metadata": {}
        },
        {
          "output_type": "execute_result",
          "data": {
            "text/plain": "Installed package Deedle.DotNet.Interactive.Extension version 0.1.0-dev21"
          },
          "execution_count": 1,
          "metadata": {}
        },
        {
          "output_type": "execute_result",
          "data": {
            "text/markdown": "Loading extensions from `Deedle.DotNet.Interactive.Extension.dll`"
          },
          "execution_count": 1,
          "metadata": {}
        },
        {
          "output_type": "execute_result",
          "data": {
            "text/markdown": "Added DeedleFormatterExtension including formatters for Frame and Series"
          },
          "execution_count": 1,
          "metadata": {}
        }
      ]
    },
    {
      "cell_type": "code",
      "execution_count": 1,
      "metadata": {
        "dotnet_interactive": {
          "language": "fsharp"
        }
      },
      "source": [
        "open Deedle"
      ],
      "outputs": []
    },
    {
      "cell_type": "code",
      "execution_count": 1,
      "metadata": {
        "dotnet_interactive": {
          "language": "fsharp"
        }
      },
      "source": [
        "let seriesA =\n",
        "    [1..100]\n",
        "    |> Series.ofValues\n",
        "\n",
        "seriesA"
      ],
      "outputs": [
        {
          "output_type": "execute_result",
          "data": {
            "text/html": "<div><table><caption>A series: 100 values. Key type: System.Int32</caption><thead><thead><th>Keys</th><th>0</th><th>1</th><th>2</th><th>3</th><th>4</th><th>5</th><th>6</th><th>7</th><th>8</th><th>9</th><th>10</th><th>11</th><th>12</th><th>13</th><th>14</th><th>...</th></thead></thead><tbody><td>Values</td><td>1</td><td>2</td><td>3</td><td>4</td><td>5</td><td>6</td><td>7</td><td>8</td><td>9</td><td>10</td><td>11</td><td>12</td><td>13</td><td>14</td><td>15</td><th>...</th></tbody></table></div>"
          },
          "execution_count": 1,
          "metadata": {}
        }
      ]
    },
    {
      "cell_type": "code",
      "execution_count": 1,
      "metadata": {
        "dotnet_interactive": {
          "language": "fsharp"
        }
      },
      "source": [
        "let seriesB =\n",
        "    List.init 100 (fun i ->\n",
        "        let currentNumber = i + 1\n",
        "        if currentNumber % 2 <> 0 then (i, None) else (i, Some currentNumber))\n",
        "    |> Series.ofOptionalObservations\n",
        "\n",
        "seriesB"
      ],
      "outputs": [
        {
          "output_type": "execute_result",
          "data": {
            "text/html": "<div><table><caption>A series: 100 values. Key type: System.Int32</caption><thead><thead><th>Keys</th><th>0</th><th>1</th><th>2</th><th>3</th><th>4</th><th>5</th><th>6</th><th>7</th><th>8</th><th>9</th><th>10</th><th>11</th><th>12</th><th>13</th><th>14</th><th>...</th></thead></thead><tbody><td>Values</td><td>&lt;missing&gt;</td><td>2</td><td>&lt;missing&gt;</td><td>4</td><td>&lt;missing&gt;</td><td>6</td><td>&lt;missing&gt;</td><td>8</td><td>&lt;missing&gt;</td><td>10</td><td>&lt;missing&gt;</td><td>12</td><td>&lt;missing&gt;</td><td>14</td><td>&lt;missing&gt;</td><th>...</th></tbody></table></div>"
          },
          "execution_count": 1,
          "metadata": {}
        }
      ]
    },
    {
      "cell_type": "code",
      "execution_count": 1,
      "metadata": {
        "dotnet_interactive": {
          "language": "fsharp"
        }
      },
      "source": [
        "let frame =\n",
        "    [ (\"A\", seriesA); (\"B\", seriesB) ]\n",
        "    |> Frame.ofColumns\n",
        "\n",
        "frame"
      ],
      "outputs": [
        {
          "output_type": "execute_result",
          "data": {
            "text/html": "<div><table><caption>A frame: 100 x 2</caption><thead><tr><th></th><th>A</th><th>B</th></tr><tr><th></th><th>System.Int32</th><th>System.Int32</th></tr></thead><tbody><tr><td><div class=\"dni-plaintext\">0</div></td><td><div class=\"dni-plaintext\">1</div></td><td><div class=\"dni-plaintext\">N/A</div></td></tr><tr><td><div class=\"dni-plaintext\">1</div></td><td><div class=\"dni-plaintext\">2</div></td><td><div class=\"dni-plaintext\">2</div></td></tr><tr><td><div class=\"dni-plaintext\">2</div></td><td><div class=\"dni-plaintext\">3</div></td><td><div class=\"dni-plaintext\">N/A</div></td></tr><tr><td><div class=\"dni-plaintext\">3</div></td><td><div class=\"dni-plaintext\">4</div></td><td><div class=\"dni-plaintext\">4</div></td></tr><tr><td><div class=\"dni-plaintext\">4</div></td><td><div class=\"dni-plaintext\">5</div></td><td><div class=\"dni-plaintext\">N/A</div></td></tr><tr><td><div class=\"dni-plaintext\">5</div></td><td><div class=\"dni-plaintext\">6</div></td><td><div class=\"dni-plaintext\">6</div></td></tr><tr><td><div class=\"dni-plaintext\">6</div></td><td><div class=\"dni-plaintext\">7</div></td><td><div class=\"dni-plaintext\">N/A</div></td></tr><tr><td><div class=\"dni-plaintext\">7</div></td><td><div class=\"dni-plaintext\">8</div></td><td><div class=\"dni-plaintext\">8</div></td></tr><tr><td><div class=\"dni-plaintext\">8</div></td><td><div class=\"dni-plaintext\">9</div></td><td><div class=\"dni-plaintext\">N/A</div></td></tr><tr><td><div class=\"dni-plaintext\">9</div></td><td><div class=\"dni-plaintext\">10</div></td><td><div class=\"dni-plaintext\">10</div></td></tr><tr><td><div class=\"dni-plaintext\">10</div></td><td><div class=\"dni-plaintext\">11</div></td><td><div class=\"dni-plaintext\">N/A</div></td></tr><tr><td><div class=\"dni-plaintext\">11</div></td><td><div class=\"dni-plaintext\">12</div></td><td><div class=\"dni-plaintext\">12</div></td></tr><tr><td><div class=\"dni-plaintext\">12</div></td><td><div class=\"dni-plaintext\">13</div></td><td><div class=\"dni-plaintext\">N/A</div></td></tr><tr><td><div class=\"dni-plaintext\">13</div></td><td><div class=\"dni-plaintext\">14</div></td><td><div class=\"dni-plaintext\">14</div></td></tr><tr><td><div class=\"dni-plaintext\">14</div></td><td><div class=\"dni-plaintext\">15</div></td><td><div class=\"dni-plaintext\">N/A</div></td></tr><tr><td><div class=\"dni-plaintext\">15</div></td><td><div class=\"dni-plaintext\">16</div></td><td><div class=\"dni-plaintext\">16</div></td></tr><tr><td><div class=\"dni-plaintext\">16</div></td><td><div class=\"dni-plaintext\">17</div></td><td><div class=\"dni-plaintext\">N/A</div></td></tr><tr><td><div class=\"dni-plaintext\">17</div></td><td><div class=\"dni-plaintext\">18</div></td><td><div class=\"dni-plaintext\">18</div></td></tr><tr><td><div class=\"dni-plaintext\">18</div></td><td><div class=\"dni-plaintext\">19</div></td><td><div class=\"dni-plaintext\">N/A</div></td></tr><tr><td><div class=\"dni-plaintext\">19</div></td><td><div class=\"dni-plaintext\">20</div></td><td><div class=\"dni-plaintext\">20</div></td></tr><tr><td>...</td><td>...</td><td>...</td></tr></tbody></table><div><p><span>...with 80 additional rows</span></p></div></div>"
          },
          "execution_count": 1,
          "metadata": {}
        }
      ]
    },
    {
      "cell_type": "code",
      "execution_count": 1,
      "metadata": {
        "dotnet_interactive": {
          "language": "fsharp"
        }
      },
      "source": [
        "#i \"nuget:https://pkgs.dev.azure.com/dnceng/public/_packaging/dotnet5/nuget/v3/index.json\"\n",
        "#i \"nuget:https://pkgs.dev.azure.com/dnceng/public/_packaging/dotnet-tools/nuget/v3/index.json\"\n",
        "#r \"nuget:Microsoft.DotNet.Interactive.ExtensionLab,*-*\""
      ],
      "outputs": [
        {
          "output_type": "execute_result",
          "data": {
            "text/html": "<div><strong>Restore sources</strong><ul><li><span> /home/gregor/source/repos/Deedle.DotNet.Interactive.Extension/src/Deedle.DotNet.Interactive.Extension/bin/Debug</span></li><li><span>https://pkgs.dev.azure.com/dnceng/public/_packaging/dotnet5/nuget/v3/index.json</span></li></ul></div>"
          },
          "execution_count": 1,
          "metadata": {}
        },
        {
          "output_type": "execute_result",
          "data": {
            "text/html": "<div><strong>Restore sources</strong><ul><li><span> /home/gregor/source/repos/Deedle.DotNet.Interactive.Extension/src/Deedle.DotNet.Interactive.Extension/bin/Debug</span></li><li><span>https://pkgs.dev.azure.com/dnceng/public/_packaging/dotnet5/nuget/v3/index.json</span></li><li><span>https://pkgs.dev.azure.com/dnceng/public/_packaging/dotnet-tools/nuget/v3/index.json</span></li></ul></div>"
          },
          "execution_count": 1,
          "metadata": {}
        },
        {
          "output_type": "execute_result",
          "data": {
            "text/plain": "Installed package Microsoft.DotNet.Interactive.ExtensionLab version 1.0.0-beta.21155.3"
          },
          "execution_count": 1,
          "metadata": {}
        },
        {
          "output_type": "execute_result",
          "data": {
            "text/markdown": "Loading extensions from `Microsoft.DotNet.Interactive.ExtensionLab.dll`"
          },
          "execution_count": 1,
          "metadata": {}
        },
        {
          "output_type": "execute_result",
          "data": {
            "text/html": "<details><summary>Create strongly-typed dataframes using<code>#!linqify</code>.</summary>\r\n    <p>The <code>#!linqify</code> magic command replaces a <a href=\"https://www.nuget.org/packages/Microsoft.Data.Analysis/\"><code>Microsoft.Data.Analysis.DataFrame</code></a> variable with a generated, strongly-typed data frame, allowing the use of LINQ operations over the contained data.</p>\r\n    </details>"
          },
          "execution_count": 1,
          "metadata": {}
        },
        {
          "output_type": "execute_result",
          "data": {
            "text/html": "<details><summary>Inspect code compilation details using the <code>#!inspect</code> magic command.</summary>\r\n    <p>The <code>#!inspect</code> magic command allows you to see the C# decompilation, IL, and JIT Asm for the code in a C# cell.</p>\r\n    <img src=\"https://user-images.githubusercontent.com/547415/109560515-d5749a00-7a90-11eb-9fa3-51b737345bb4.png\" width=\"75%\" />\r\n    </details>"
          },
          "execution_count": 1,
          "metadata": {}
        },
        {
          "output_type": "execute_result",
          "data": {
            "text/html": "<details><summary>Explore data visually using the <a href=\"https://github.com/nteract/data-explorer\">nteract Data Explorer</a>.</summary>\r\n    <p>This extension adds the ability to sort, filter, and visualize data using the <a href=\"https://github.com/nteract/data-explorer\">nteract Data Explorer</a>. Use the <code>Explore</code> extension method with variables of type <code>IEnumerable<T></code> or <code>IDataView</code> to render the data explorer.</p>\r\n    <img src=\"https://user-images.githubusercontent.com/547415/109559345-621e5880-7a8f-11eb-8b98-d4feeaac116f.png\" width=\"75%\">\r\n    </details>"
          },
          "execution_count": 1,
          "metadata": {}
        },
        {
          "output_type": "execute_result",
          "data": {
            "text/html": "<details><summary>Use the <code>#!record</code> magic command to keep a transcript of the code you run.</summary>\r\n    <p>Once you enable transcripts using <code>#!record</code>, each code submission (including re-running cells) is recorded in the specified file. The JSON format used is the same format recognized by the .NET Interactive <code>stdio</code> and <code>http</code> APIs and can be used to replay a notebook session via automation.</p>\r\n    <img src=\"https://user-images.githubusercontent.com/547415/109562409-343b1300-7a93-11eb-8ebf-79bb6af028cf.png\" width=\"75%\" />\r\n    </details>"
          },
          "execution_count": 1,
          "metadata": {}
        },
        {
          "output_type": "execute_result",
          "data": {
            "text/html": "<details><summary>Explore data visually using the <a href=\"https://github.com/microsoft/SandDance\">SandDance Explorer</a>.</summary>\r\n    <p>This extension adds the ability to sort, filter, and visualize data using the <a href=\"https://github.com/microsoft/SandDance\">SandDance Explorer</a>. Use the <code>ExploreWithSandDance</code> extension method with variables of type <code>IEnumerable<T></code> or <code>IDataView</code> to render the data explorer.</p>\r\n<pre>\r\n    <code>\r\n    using Microsoft.Data.Analysis;\r\n    using System.Collections.Generic;\r\n    using Microsoft.ML;\r\n\r\n    var dataFrame = DataFrame.LoadCsv(\"./Data.csv\");\r\n\r\n    dataFrame.ExploreWithSandDance()\r\n    </code>\r\n</pre>\r\n    <img src=\"https://user-images.githubusercontent.com/11507384/54236654-52d42800-44d1-11e9-859e-6c5d297a46d2.gif\" width=\"30%\">\r\n    </details>"
          },
          "execution_count": 1,
          "metadata": {}
        },
        {
          "output_type": "execute_result",
          "data": {
            "text/html": "<details><summary>Query SQLite databases.</summary>\r\n    <p>This extension adds support for connecting to SQLite databases using the <code>#!connect sqlite</code> magic command. For more information, run a cell using the <code>#!sql</code> magic command.</p>\r\n    </details>"
          },
          "execution_count": 1,
          "metadata": {}
        }
      ]
    },
    {
      "cell_type": "code",
      "execution_count": 1,
      "metadata": {
        "dotnet_interactive": {
          "language": "fsharp"
        }
      },
      "source": [
        "open Deedle.DotNet.Interactive.Extension.Formatting\n",
        "\n",
        "let frame' =\n",
        "    frame\n",
        "    |> Frame.dropSparseRows\n",
        "    |> Frame.addCol \"C\" (Series.ofValues [ for x in 1 .. frame.RowCount do x * 2])\n",
        "\n",
        "toTabularJsonData frame'"
      ],
      "outputs": [
        {
          "output_type": "execute_result",
          "data": {
            "text/html": "<div style=\"background-color:white;\">\n<div id=\"24bbe0817db543b48f82754dfe1df899\" style=\"height: 100ch ;margin: 2px;\">\n</div>\n<script type=\"text/javascript\">\n\r\nlet renderDataExplorer_24bbe0817db543b48f82754dfe1df899 = () => {\n\r\n    configureRequireFromExtension('nteract','1.0.0')(['nteract/nteractapi'], (nteract) => {\n\r\n        nteract.createDataExplorer({\r\n            data: {\n  \"schema\": {\n    \"primaryKey\": [],\n    \"fields\": [\n      {\n        \"name\": \"A\",\n        \"type\": \"integer\"\n      },\n      {\n        \"name\": \"B\",\n        \"type\": \"integer\"\n      },\n      {\n        \"name\": \"C\",\n        \"type\": \"integer\"\n      }\n    ]\n  },\n  \"data\": [\n    {\n      \"A\": 2,\n      \"B\": 2,\n      \"C\": 4\n    },\n    {\n      \"A\": 4,\n      \"B\": 4,\n      \"C\": 8\n    },\n    {\n      \"A\": 6,\n      \"B\": 6,\n      \"C\": 12\n    },\n    {\n      \"A\": 8,\n      \"B\": 8,\n      \"C\": 16\n    },\n    {\n      \"A\": 10,\n      \"B\": 10,\n      \"C\": 20\n    },\n    {\n      \"A\": 12,\n      \"B\": 12,\n      \"C\": 24\n    },\n    {\n      \"A\": 14,\n      \"B\": 14,\n      \"C\": 28\n    },\n    {\n      \"A\": 16,\n      \"B\": 16,\n      \"C\": 32\n    },\n    {\n      \"A\": 18,\n      \"B\": 18,\n      \"C\": 36\n    },\n    {\n      \"A\": 20,\n      \"B\": 20,\n      \"C\": 40\n    },\n    {\n      \"A\": 22,\n      \"B\": 22,\n      \"C\": 44\n    },\n    {\n      \"A\": 24,\n      \"B\": 24,\n      \"C\": 48\n    },\n    {\n      \"A\": 26,\n      \"B\": 26,\n      \"C\": 52\n    },\n    {\n      \"A\": 28,\n      \"B\": 28,\n      \"C\": 56\n    },\n    {\n      \"A\": 30,\n      \"B\": 30,\n      \"C\": 60\n    },\n    {\n      \"A\": 32,\n      \"B\": 32,\n      \"C\": 64\n    },\n    {\n      \"A\": 34,\n      \"B\": 34,\n      \"C\": 68\n    },\n    {\n      \"A\": 36,\n      \"B\": 36,\n      \"C\": 72\n    },\n    {\n      \"A\": 38,\n      \"B\": 38,\n      \"C\": 76\n    },\n    {\n      \"A\": 40,\n      \"B\": 40,\n      \"C\": 80\n    },\n    {\n      \"A\": 42,\n      \"B\": 42,\n      \"C\": 84\n    },\n    {\n      \"A\": 44,\n      \"B\": 44,\n      \"C\": 88\n    },\n    {\n      \"A\": 46,\n      \"B\": 46,\n      \"C\": 92\n    },\n    {\n      \"A\": 48,\n      \"B\": 48,\n      \"C\": 96\n    },\n    {\n      \"A\": 50,\n      \"B\": 50,\n      \"C\": 100\n    },\n    {\n      \"A\": 52,\n      \"B\": 52,\n      \"C\": 104\n    },\n    {\n      \"A\": 54,\n      \"B\": 54,\n      \"C\": 108\n    },\n    {\n      \"A\": 56,\n      \"B\": 56,\n      \"C\": 112\n    },\n    {\n      \"A\": 58,\n      \"B\": 58,\n      \"C\": 116\n    },\n    {\n      \"A\": 60,\n      \"B\": 60,\n      \"C\": 120\n    },\n    {\n      \"A\": 62,\n      \"B\": 62,\n      \"C\": 124\n    },\n    {\n      \"A\": 64,\n      \"B\": 64,\n      \"C\": 128\n    },\n    {\n      \"A\": 66,\n      \"B\": 66,\n      \"C\": 132\n    },\n    {\n      \"A\": 68,\n      \"B\": 68,\n      \"C\": 136\n    },\n    {\n      \"A\": 70,\n      \"B\": 70,\n      \"C\": 140\n    },\n    {\n      \"A\": 72,\n      \"B\": 72,\n      \"C\": 144\n    },\n    {\n      \"A\": 74,\n      \"B\": 74,\n      \"C\": 148\n    },\n    {\n      \"A\": 76,\n      \"B\": 76,\n      \"C\": 152\n    },\n    {\n      \"A\": 78,\n      \"B\": 78,\n      \"C\": 156\n    },\n    {\n      \"A\": 80,\n      \"B\": 80,\n      \"C\": 160\n    },\n    {\n      \"A\": 82,\n      \"B\": 82,\n      \"C\": 164\n    },\n    {\n      \"A\": 84,\n      \"B\": 84,\n      \"C\": 168\n    },\n    {\n      \"A\": 86,\n      \"B\": 86,\n      \"C\": 172\n    },\n    {\n      \"A\": 88,\n      \"B\": 88,\n      \"C\": 176\n    },\n    {\n      \"A\": 90,\n      \"B\": 90,\n      \"C\": 180\n    },\n    {\n      \"A\": 92,\n      \"B\": 92,\n      \"C\": 184\n    },\n    {\n      \"A\": 94,\n      \"B\": 94,\n      \"C\": 188\n    },\n    {\n      \"A\": 96,\n      \"B\": 96,\n      \"C\": 192\n    },\n    {\n      \"A\": 98,\n      \"B\": 98,\n      \"C\": 196\n    },\n    {\n      \"A\": 100,\n      \"B\": 100,\n      \"C\": 200\n    }\n  ]\n},\r\n            container: document.getElementById(\"24bbe0817db543b48f82754dfe1df899\")\r\n        });\r\n    },\r\n    (error) => {\r\n        console.log(error);\r\n    });\r\n};\n// ensure `require` is available globally\r\nif ((typeof(require) !==  typeof(Function)) || (typeof(require.config) !== typeof(Function))) {\r\n    let require_script = document.createElement('script');\r\n    require_script.setAttribute('src', 'https://cdnjs.cloudflare.com/ajax/libs/require.js/2.3.6/require.min.js');\r\n    require_script.setAttribute('type', 'text/javascript');\r\n    \r\n    \r\n    require_script.onload = function() {\r\n        renderDataExplorer_24bbe0817db543b48f82754dfe1df899();\r\n    };\r\n\r\n    document.getElementsByTagName('head')[0].appendChild(require_script);\r\n}\r\nelse {\r\n    renderDataExplorer_24bbe0817db543b48f82754dfe1df899();\r\n}\r\n\n </script>\n</div>\n"
          },
          "execution_count": 1,
          "metadata": {}
        }
      ]
    },
    {
      "cell_type": "code",
      "execution_count": 1,
      "metadata": {
        "dotnet_interactive": {
          "language": "fsharp"
        }
      },
      "source": [
        "module SandDanceDemo =\n",
        "    open Microsoft.DotNet.Interactive.ExtensionLab\n",
        "\n",
        "    let exploreWithSandDance (frame: Frame<'a, 'b>) : SandDanceExplorer =\n",
        "        let tabularJsonData = toTabularJsonData frame\n",
        "\n",
        "        let explorer = SandDanceExplorer()\n",
        "\n",
        "        // hacky hack because SandDanceExplorer members are internal\n",
        "        typeof<SandDanceExplorer>.GetMethods\n",
        "            (System.Reflection.BindingFlags.NonPublic\n",
        "             ||| System.Reflection.BindingFlags.Instance)\n",
        "        |> Seq.filter\n",
        "            (fun methodInfo ->\n",
        "                methodInfo.Name = \"LoadData\"\n",
        "                && not methodInfo.IsGenericMethod)\n",
        "        |> Seq.head\n",
        "        |> fun method -> method.Invoke(explorer, [| tabularJsonData |])\n",
        "        |> ignore\n",
        "\n",
        "        explorer\n",
        "\n",
        "SandDanceDemo.exploreWithSandDance frame'"
      ],
      "outputs": [
        {
          "output_type": "execute_result",
          "data": {
            "text/html": "<div style=\"background-color:white;\">\n<div id=\"59427537bf6c46a096a18269b2118948\" style=\"height: 100ch ;margin: 2px;\">\n</div>\n<script type=\"text/javascript\">\n\r\nlet renderSandDanceExplorer_59427537bf6c46a096a18269b2118948 = () => {\n\r\n    configureRequireFromExtension('SandDance','1.0.0')(['SandDance/sanddanceapi'], (sandDance) => {\n\r\n        sandDance.createSandDanceExplorer({\r\n            data: {\n  \"schema\": {\n    \"primaryKey\": [],\n    \"fields\": [\n      {\n        \"name\": \"A\",\n        \"type\": \"integer\"\n      },\n      {\n        \"name\": \"B\",\n        \"type\": \"integer\"\n      },\n      {\n        \"name\": \"C\",\n        \"type\": \"integer\"\n      }\n    ]\n  },\n  \"data\": [\n    {\n      \"A\": 2,\n      \"B\": 2,\n      \"C\": 4\n    },\n    {\n      \"A\": 4,\n      \"B\": 4,\n      \"C\": 8\n    },\n    {\n      \"A\": 6,\n      \"B\": 6,\n      \"C\": 12\n    },\n    {\n      \"A\": 8,\n      \"B\": 8,\n      \"C\": 16\n    },\n    {\n      \"A\": 10,\n      \"B\": 10,\n      \"C\": 20\n    },\n    {\n      \"A\": 12,\n      \"B\": 12,\n      \"C\": 24\n    },\n    {\n      \"A\": 14,\n      \"B\": 14,\n      \"C\": 28\n    },\n    {\n      \"A\": 16,\n      \"B\": 16,\n      \"C\": 32\n    },\n    {\n      \"A\": 18,\n      \"B\": 18,\n      \"C\": 36\n    },\n    {\n      \"A\": 20,\n      \"B\": 20,\n      \"C\": 40\n    },\n    {\n      \"A\": 22,\n      \"B\": 22,\n      \"C\": 44\n    },\n    {\n      \"A\": 24,\n      \"B\": 24,\n      \"C\": 48\n    },\n    {\n      \"A\": 26,\n      \"B\": 26,\n      \"C\": 52\n    },\n    {\n      \"A\": 28,\n      \"B\": 28,\n      \"C\": 56\n    },\n    {\n      \"A\": 30,\n      \"B\": 30,\n      \"C\": 60\n    },\n    {\n      \"A\": 32,\n      \"B\": 32,\n      \"C\": 64\n    },\n    {\n      \"A\": 34,\n      \"B\": 34,\n      \"C\": 68\n    },\n    {\n      \"A\": 36,\n      \"B\": 36,\n      \"C\": 72\n    },\n    {\n      \"A\": 38,\n      \"B\": 38,\n      \"C\": 76\n    },\n    {\n      \"A\": 40,\n      \"B\": 40,\n      \"C\": 80\n    },\n    {\n      \"A\": 42,\n      \"B\": 42,\n      \"C\": 84\n    },\n    {\n      \"A\": 44,\n      \"B\": 44,\n      \"C\": 88\n    },\n    {\n      \"A\": 46,\n      \"B\": 46,\n      \"C\": 92\n    },\n    {\n      \"A\": 48,\n      \"B\": 48,\n      \"C\": 96\n    },\n    {\n      \"A\": 50,\n      \"B\": 50,\n      \"C\": 100\n    },\n    {\n      \"A\": 52,\n      \"B\": 52,\n      \"C\": 104\n    },\n    {\n      \"A\": 54,\n      \"B\": 54,\n      \"C\": 108\n    },\n    {\n      \"A\": 56,\n      \"B\": 56,\n      \"C\": 112\n    },\n    {\n      \"A\": 58,\n      \"B\": 58,\n      \"C\": 116\n    },\n    {\n      \"A\": 60,\n      \"B\": 60,\n      \"C\": 120\n    },\n    {\n      \"A\": 62,\n      \"B\": 62,\n      \"C\": 124\n    },\n    {\n      \"A\": 64,\n      \"B\": 64,\n      \"C\": 128\n    },\n    {\n      \"A\": 66,\n      \"B\": 66,\n      \"C\": 132\n    },\n    {\n      \"A\": 68,\n      \"B\": 68,\n      \"C\": 136\n    },\n    {\n      \"A\": 70,\n      \"B\": 70,\n      \"C\": 140\n    },\n    {\n      \"A\": 72,\n      \"B\": 72,\n      \"C\": 144\n    },\n    {\n      \"A\": 74,\n      \"B\": 74,\n      \"C\": 148\n    },\n    {\n      \"A\": 76,\n      \"B\": 76,\n      \"C\": 152\n    },\n    {\n      \"A\": 78,\n      \"B\": 78,\n      \"C\": 156\n    },\n    {\n      \"A\": 80,\n      \"B\": 80,\n      \"C\": 160\n    },\n    {\n      \"A\": 82,\n      \"B\": 82,\n      \"C\": 164\n    },\n    {\n      \"A\": 84,\n      \"B\": 84,\n      \"C\": 168\n    },\n    {\n      \"A\": 86,\n      \"B\": 86,\n      \"C\": 172\n    },\n    {\n      \"A\": 88,\n      \"B\": 88,\n      \"C\": 176\n    },\n    {\n      \"A\": 90,\n      \"B\": 90,\n      \"C\": 180\n    },\n    {\n      \"A\": 92,\n      \"B\": 92,\n      \"C\": 184\n    },\n    {\n      \"A\": 94,\n      \"B\": 94,\n      \"C\": 188\n    },\n    {\n      \"A\": 96,\n      \"B\": 96,\n      \"C\": 192\n    },\n    {\n      \"A\": 98,\n      \"B\": 98,\n      \"C\": 196\n    },\n    {\n      \"A\": 100,\n      \"B\": 100,\n      \"C\": 200\n    }\n  ]\n},\r\n            container: document.getElementById(\"59427537bf6c46a096a18269b2118948\")\r\n        });\r\n    },\r\n    (error) => {\r\n        console.log(error);\r\n    });\r\n};\n// ensure `require` is available globally\r\nif ((typeof(require) !==  typeof(Function)) || (typeof(require.config) !== typeof(Function))) {\r\n    let require_script = document.createElement('script');\r\n    require_script.setAttribute('src', 'https://cdnjs.cloudflare.com/ajax/libs/require.js/2.3.6/require.min.js');\r\n    require_script.setAttribute('type', 'text/javascript');\r\n    \r\n    \r\n    require_script.onload = function() {\r\n        renderSandDanceExplorer_59427537bf6c46a096a18269b2118948();\r\n    };\r\n\r\n    document.getElementsByTagName('head')[0].appendChild(require_script);\r\n}\r\nelse {\r\n    renderSandDanceExplorer_59427537bf6c46a096a18269b2118948();\r\n}\r\n\n </script>\n</div>\n"
          },
          "execution_count": 1,
          "metadata": {}
        }
      ]
    }
  ],
  "metadata": {
    "kernelspec": {
      "display_name": ".NET (C#)",
      "language": "C#",
      "name": ".net-csharp"
    },
    "language_info": {
      "file_extension": ".cs",
      "mimetype": "text/x-csharp",
      "name": "C#",
      "pygments_lexer": "csharp",
      "version": "8.0"
    }
  },
  "nbformat": 4,
  "nbformat_minor": 4
}