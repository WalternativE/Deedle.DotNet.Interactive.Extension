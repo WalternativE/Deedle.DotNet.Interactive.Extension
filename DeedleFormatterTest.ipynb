{
  "cells": [
    {
      "cell_type": "code",
      "execution_count": 1,
      "metadata": {
        "dotnet_interactive": {
          "language": "pwsh"
        }
      },
      "source": [
        "Remove-Item -Recurse -Force src/Deedle.DotNet.Interactive.Extension/bin\n",
        "\n",
        "dotnet build\n",
        "\n",
        "dotnet pack /p:PackageVersion=0.1.0-dev22\n",
        "\n",
        "Get-ChildItem -Recurse Deedle.DotNet.Interactive.Extension*.nupkg"
      ],
      "outputs": [
        {
          "output_type": "execute_result",
          "data": {
            "text/plain": "Microsoft (R) Build Engine version 16.9.0+57a23d249 for .NET\r\n"
          },
          "execution_count": 1,
          "metadata": {}
        },
        {
          "output_type": "execute_result",
          "data": {
            "text/plain": "Copyright (C) Microsoft Corporation. All rights reserved.\r\n"
          },
          "execution_count": 1,
          "metadata": {}
        },
        {
          "output_type": "execute_result",
          "data": {
            "text/plain": "\r\n"
          },
          "execution_count": 1,
          "metadata": {}
        },
        {
          "output_type": "execute_result",
          "data": {
            "text/plain": "  Determining projects to restore...\r\n"
          },
          "execution_count": 1,
          "metadata": {}
        },
        {
          "output_type": "execute_result",
          "data": {
            "text/plain": "C:\\Users\\grego\\source\\repos\\Deedle.DotNet.Interactive.Extension\\src\\Deedle.DotNet.Interactive.Extension\\Deedle.DotNet.Interactive.Extension.fsproj : warning NU1605: Detected package downgrade: FSharp.Core from 5.0.2-beta.21102.10 to 5.0.1. Reference the package directly from the project to select a different version.  [C:\\Users\\grego\\source\\repos\\Deedle.DotNet.Interactive.Extension\\Deedle.DotNet.Interactive.Extension.sln]\r\n"
          },
          "execution_count": 1,
          "metadata": {}
        },
        {
          "output_type": "execute_result",
          "data": {
            "text/plain": "C:\\Users\\grego\\source\\repos\\Deedle.DotNet.Interactive.Extension\\src\\Deedle.DotNet.Interactive.Extension\\Deedle.DotNet.Interactive.Extension.fsproj : warning NU1605:  Deedle.DotNet.Interactive.Extension -> Microsoft.DotNet.Interactive.FSharp 1.0.0-beta.21161.5 -> FSharp.Core (>= 5.0.2-beta.21102.10)  [C:\\Users\\grego\\source\\repos\\Deedle.DotNet.Interactive.Extension\\Deedle.DotNet.Interactive.Extension.sln]\r\n"
          },
          "execution_count": 1,
          "metadata": {}
        },
        {
          "output_type": "execute_result",
          "data": {
            "text/plain": "C:\\Users\\grego\\source\\repos\\Deedle.DotNet.Interactive.Extension\\src\\Deedle.DotNet.Interactive.Extension\\Deedle.DotNet.Interactive.Extension.fsproj : warning NU1605:  Deedle.DotNet.Interactive.Extension -> FSharp.Core (>= 5.0.1) [C:\\Users\\grego\\source\\repos\\Deedle.DotNet.Interactive.Extension\\Deedle.DotNet.Interactive.Extension.sln]\r\n"
          },
          "execution_count": 1,
          "metadata": {}
        },
        {
          "output_type": "execute_result",
          "data": {
            "text/plain": "  Restored C:\\Users\\grego\\source\\repos\\Deedle.DotNet.Interactive.Extension\\src\\Deedle.DotNet.Interactive.Extension\\Deedle.DotNet.Interactive.Extension.fsproj (in 997 ms).\r\n"
          },
          "execution_count": 1,
          "metadata": {}
        },
        {
          "output_type": "execute_result",
          "data": {
            "text/plain": "C:\\Users\\grego\\source\\repos\\Deedle.DotNet.Interactive.Extension\\src\\Deedle.DotNet.Interactive.Extension\\Deedle.DotNet.Interactive.Extension.fsproj : warning NU1605: Detected package downgrade: FSharp.Core from 5.0.2-beta.21102.10 to 5.0.1. Reference the package directly from the project to select a different version. \r\n"
          },
          "execution_count": 1,
          "metadata": {}
        },
        {
          "output_type": "execute_result",
          "data": {
            "text/plain": "C:\\Users\\grego\\source\\repos\\Deedle.DotNet.Interactive.Extension\\src\\Deedle.DotNet.Interactive.Extension\\Deedle.DotNet.Interactive.Extension.fsproj : warning NU1605:  Deedle.DotNet.Interactive.Extension -> Microsoft.DotNet.Interactive.FSharp 1.0.0-beta.21161.5 -> FSharp.Core (>= 5.0.2-beta.21102.10) \r\n"
          },
          "execution_count": 1,
          "metadata": {}
        },
        {
          "output_type": "execute_result",
          "data": {
            "text/plain": "C:\\Users\\grego\\source\\repos\\Deedle.DotNet.Interactive.Extension\\src\\Deedle.DotNet.Interactive.Extension\\Deedle.DotNet.Interactive.Extension.fsproj : warning NU1605:  Deedle.DotNet.Interactive.Extension -> FSharp.Core (>= 5.0.1)\r\n"
          },
          "execution_count": 1,
          "metadata": {}
        },
        {
          "output_type": "execute_result",
          "data": {
            "text/plain": "  Deedle.DotNet.Interactive.Extension -> C:\\Users\\grego\\source\\repos\\Deedle.DotNet.Interactive.Extension\\src\\Deedle.DotNet.Interactive.Extension\\bin\\Debug\\net5.0\\Deedle.DotNet.Interactive.Extension.dll\r\n"
          },
          "execution_count": 1,
          "metadata": {}
        },
        {
          "output_type": "execute_result",
          "data": {
            "text/plain": "\r\n"
          },
          "execution_count": 1,
          "metadata": {}
        },
        {
          "output_type": "execute_result",
          "data": {
            "text/plain": "Build succeeded.\r\n"
          },
          "execution_count": 1,
          "metadata": {}
        },
        {
          "output_type": "execute_result",
          "data": {
            "text/plain": "\r\n"
          },
          "execution_count": 1,
          "metadata": {}
        },
        {
          "output_type": "execute_result",
          "data": {
            "text/plain": "C:\\Users\\grego\\source\\repos\\Deedle.DotNet.Interactive.Extension\\src\\Deedle.DotNet.Interactive.Extension\\Deedle.DotNet.Interactive.Extension.fsproj : warning NU1605: Detected package downgrade: FSharp.Core from 5.0.2-beta.21102.10 to 5.0.1. Reference the package directly from the project to select a different version.  [C:\\Users\\grego\\source\\repos\\Deedle.DotNet.Interactive.Extension\\Deedle.DotNet.Interactive.Extension.sln]\r\n"
          },
          "execution_count": 1,
          "metadata": {}
        },
        {
          "output_type": "execute_result",
          "data": {
            "text/plain": "C:\\Users\\grego\\source\\repos\\Deedle.DotNet.Interactive.Extension\\src\\Deedle.DotNet.Interactive.Extension\\Deedle.DotNet.Interactive.Extension.fsproj : warning NU1605:  Deedle.DotNet.Interactive.Extension -> Microsoft.DotNet.Interactive.FSharp 1.0.0-beta.21161.5 -> FSharp.Core (>= 5.0.2-beta.21102.10)  [C:\\Users\\grego\\source\\repos\\Deedle.DotNet.Interactive.Extension\\Deedle.DotNet.Interactive.Extension.sln]\r\n"
          },
          "execution_count": 1,
          "metadata": {}
        },
        {
          "output_type": "execute_result",
          "data": {
            "text/plain": "C:\\Users\\grego\\source\\repos\\Deedle.DotNet.Interactive.Extension\\src\\Deedle.DotNet.Interactive.Extension\\Deedle.DotNet.Interactive.Extension.fsproj : warning NU1605:  Deedle.DotNet.Interactive.Extension -> FSharp.Core (>= 5.0.1) [C:\\Users\\grego\\source\\repos\\Deedle.DotNet.Interactive.Extension\\Deedle.DotNet.Interactive.Extension.sln]\r\n"
          },
          "execution_count": 1,
          "metadata": {}
        },
        {
          "output_type": "execute_result",
          "data": {
            "text/plain": "C:\\Users\\grego\\source\\repos\\Deedle.DotNet.Interactive.Extension\\src\\Deedle.DotNet.Interactive.Extension\\Deedle.DotNet.Interactive.Extension.fsproj : warning NU1605: Detected package downgrade: FSharp.Core from 5.0.2-beta.21102.10 to 5.0.1. Reference the package directly from the project to select a different version. \r\n"
          },
          "execution_count": 1,
          "metadata": {}
        },
        {
          "output_type": "execute_result",
          "data": {
            "text/plain": "C:\\Users\\grego\\source\\repos\\Deedle.DotNet.Interactive.Extension\\src\\Deedle.DotNet.Interactive.Extension\\Deedle.DotNet.Interactive.Extension.fsproj : warning NU1605:  Deedle.DotNet.Interactive.Extension -> Microsoft.DotNet.Interactive.FSharp 1.0.0-beta.21161.5 -> FSharp.Core (>= 5.0.2-beta.21102.10) \r\n"
          },
          "execution_count": 1,
          "metadata": {}
        },
        {
          "output_type": "execute_result",
          "data": {
            "text/plain": "C:\\Users\\grego\\source\\repos\\Deedle.DotNet.Interactive.Extension\\src\\Deedle.DotNet.Interactive.Extension\\Deedle.DotNet.Interactive.Extension.fsproj : warning NU1605:  Deedle.DotNet.Interactive.Extension -> FSharp.Core (>= 5.0.1)\r\n"
          },
          "execution_count": 1,
          "metadata": {}
        },
        {
          "output_type": "execute_result",
          "data": {
            "text/plain": "    2 Warning(s)\r\n"
          },
          "execution_count": 1,
          "metadata": {}
        },
        {
          "output_type": "execute_result",
          "data": {
            "text/plain": "    0 Error(s)\r\n"
          },
          "execution_count": 1,
          "metadata": {}
        },
        {
          "output_type": "execute_result",
          "data": {
            "text/plain": "\r\n"
          },
          "execution_count": 1,
          "metadata": {}
        },
        {
          "output_type": "execute_result",
          "data": {
            "text/plain": "Time Elapsed 00:00:03.63\r\n"
          },
          "execution_count": 1,
          "metadata": {}
        },
        {
          "output_type": "execute_result",
          "data": {
            "text/plain": "Microsoft (R) Build Engine version 16.9.0+57a23d249 for .NET\r\n"
          },
          "execution_count": 1,
          "metadata": {}
        },
        {
          "output_type": "execute_result",
          "data": {
            "text/plain": "Copyright (C) Microsoft Corporation. All rights reserved.\r\n"
          },
          "execution_count": 1,
          "metadata": {}
        },
        {
          "output_type": "execute_result",
          "data": {
            "text/plain": "\r\n"
          },
          "execution_count": 1,
          "metadata": {}
        },
        {
          "output_type": "execute_result",
          "data": {
            "text/plain": "  Determining projects to restore...\r\n"
          },
          "execution_count": 1,
          "metadata": {}
        },
        {
          "output_type": "execute_result",
          "data": {
            "text/plain": "C:\\Users\\grego\\source\\repos\\Deedle.DotNet.Interactive.Extension\\src\\Deedle.DotNet.Interactive.Extension\\Deedle.DotNet.Interactive.Extension.fsproj : warning NU1605: Detected package downgrade: FSharp.Core from 5.0.2-beta.21102.10 to 5.0.1. Reference the package directly from the project to select a different version.  [C:\\Users\\grego\\source\\repos\\Deedle.DotNet.Interactive.Extension\\Deedle.DotNet.Interactive.Extension.sln]\r\n"
          },
          "execution_count": 1,
          "metadata": {}
        },
        {
          "output_type": "execute_result",
          "data": {
            "text/plain": "C:\\Users\\grego\\source\\repos\\Deedle.DotNet.Interactive.Extension\\src\\Deedle.DotNet.Interactive.Extension\\Deedle.DotNet.Interactive.Extension.fsproj : warning NU1605:  Deedle.DotNet.Interactive.Extension -> Microsoft.DotNet.Interactive.FSharp 1.0.0-beta.21161.5 -> FSharp.Core (>= 5.0.2-beta.21102.10)  [C:\\Users\\grego\\source\\repos\\Deedle.DotNet.Interactive.Extension\\Deedle.DotNet.Interactive.Extension.sln]\r\n"
          },
          "execution_count": 1,
          "metadata": {}
        },
        {
          "output_type": "execute_result",
          "data": {
            "text/plain": "C:\\Users\\grego\\source\\repos\\Deedle.DotNet.Interactive.Extension\\src\\Deedle.DotNet.Interactive.Extension\\Deedle.DotNet.Interactive.Extension.fsproj : warning NU1605:  Deedle.DotNet.Interactive.Extension -> FSharp.Core (>= 5.0.1) [C:\\Users\\grego\\source\\repos\\Deedle.DotNet.Interactive.Extension\\Deedle.DotNet.Interactive.Extension.sln]\r\n"
          },
          "execution_count": 1,
          "metadata": {}
        },
        {
          "output_type": "execute_result",
          "data": {
            "text/plain": "  Restored C:\\Users\\grego\\source\\repos\\Deedle.DotNet.Interactive.Extension\\src\\Deedle.DotNet.Interactive.Extension\\Deedle.DotNet.Interactive.Extension.fsproj (in 1,69 sec).\r\n"
          },
          "execution_count": 1,
          "metadata": {}
        },
        {
          "output_type": "execute_result",
          "data": {
            "text/plain": "C:\\Users\\grego\\source\\repos\\Deedle.DotNet.Interactive.Extension\\src\\Deedle.DotNet.Interactive.Extension\\Deedle.DotNet.Interactive.Extension.fsproj : warning NU1605: Detected package downgrade: FSharp.Core from 5.0.2-beta.21102.10 to 5.0.1. Reference the package directly from the project to select a different version. \r\n"
          },
          "execution_count": 1,
          "metadata": {}
        },
        {
          "output_type": "execute_result",
          "data": {
            "text/plain": "C:\\Users\\grego\\source\\repos\\Deedle.DotNet.Interactive.Extension\\src\\Deedle.DotNet.Interactive.Extension\\Deedle.DotNet.Interactive.Extension.fsproj : warning NU1605:  Deedle.DotNet.Interactive.Extension -> Microsoft.DotNet.Interactive.FSharp 1.0.0-beta.21161.5 -> FSharp.Core (>= 5.0.2-beta.21102.10) \r\n"
          },
          "execution_count": 1,
          "metadata": {}
        },
        {
          "output_type": "execute_result",
          "data": {
            "text/plain": "C:\\Users\\grego\\source\\repos\\Deedle.DotNet.Interactive.Extension\\src\\Deedle.DotNet.Interactive.Extension\\Deedle.DotNet.Interactive.Extension.fsproj : warning NU1605:  Deedle.DotNet.Interactive.Extension -> FSharp.Core (>= 5.0.1)\r\n"
          },
          "execution_count": 1,
          "metadata": {}
        },
        {
          "output_type": "execute_result",
          "data": {
            "text/plain": "  Deedle.DotNet.Interactive.Extension -> C:\\Users\\grego\\source\\repos\\Deedle.DotNet.Interactive.Extension\\src\\Deedle.DotNet.Interactive.Extension\\bin\\Debug\\net5.0\\Deedle.DotNet.Interactive.Extension.dll\r\n"
          },
          "execution_count": 1,
          "metadata": {}
        },
        {
          "output_type": "execute_result",
          "data": {
            "text/plain": "C:\\Users\\grego\\source\\repos\\Deedle.DotNet.Interactive.Extension\\src\\Deedle.DotNet.Interactive.Extension\\Deedle.DotNet.Interactive.Extension.fsproj : warning NU1605: Detected package downgrade: FSharp.Core from 5.0.2-beta.21102.10 to 5.0.1. Reference the package directly from the project to select a different version. \r\n"
          },
          "execution_count": 1,
          "metadata": {}
        },
        {
          "output_type": "execute_result",
          "data": {
            "text/plain": "C:\\Users\\grego\\source\\repos\\Deedle.DotNet.Interactive.Extension\\src\\Deedle.DotNet.Interactive.Extension\\Deedle.DotNet.Interactive.Extension.fsproj : warning NU1605:  Deedle.DotNet.Interactive.Extension -> Microsoft.DotNet.Interactive.FSharp 1.0.0-beta.21161.5 -> FSharp.Core (>= 5.0.2-beta.21102.10) \r\n"
          },
          "execution_count": 1,
          "metadata": {}
        },
        {
          "output_type": "execute_result",
          "data": {
            "text/plain": "C:\\Users\\grego\\source\\repos\\Deedle.DotNet.Interactive.Extension\\src\\Deedle.DotNet.Interactive.Extension\\Deedle.DotNet.Interactive.Extension.fsproj : warning NU1605:  Deedle.DotNet.Interactive.Extension -> FSharp.Core (>= 5.0.1)\r\n"
          },
          "execution_count": 1,
          "metadata": {}
        },
        {
          "output_type": "execute_result",
          "data": {
            "text/plain": "C:\\Users\\grego\\source\\repos\\Deedle.DotNet.Interactive.Extension\\src\\Deedle.DotNet.Interactive.Extension\\Deedle.DotNet.Interactive.Extension.fsproj : warning NU1605: Detected package downgrade: FSharp.Core from 5.0.2-beta.21102.10 to 5.0.1. Reference the package directly from the project to select a different version. \r\n"
          },
          "execution_count": 1,
          "metadata": {}
        },
        {
          "output_type": "execute_result",
          "data": {
            "text/plain": "C:\\Users\\grego\\source\\repos\\Deedle.DotNet.Interactive.Extension\\src\\Deedle.DotNet.Interactive.Extension\\Deedle.DotNet.Interactive.Extension.fsproj : warning NU1605:  Deedle.DotNet.Interactive.Extension -> Microsoft.DotNet.Interactive.FSharp 1.0.0-beta.21161.5 -> FSharp.Core (>= 5.0.2-beta.21102.10) \r\n"
          },
          "execution_count": 1,
          "metadata": {}
        },
        {
          "output_type": "execute_result",
          "data": {
            "text/plain": "C:\\Users\\grego\\source\\repos\\Deedle.DotNet.Interactive.Extension\\src\\Deedle.DotNet.Interactive.Extension\\Deedle.DotNet.Interactive.Extension.fsproj : warning NU1605:  Deedle.DotNet.Interactive.Extension -> FSharp.Core (>= 5.0.1)\r\n"
          },
          "execution_count": 1,
          "metadata": {}
        },
        {
          "output_type": "execute_result",
          "data": {
            "text/plain": "  Successfully created package 'C:\\Users\\grego\\source\\repos\\Deedle.DotNet.Interactive.Extension\\src\\Deedle.DotNet.Interactive.Extension\\bin\\Debug\\Deedle.DotNet.Interactive.Extension.0.1.0-dev22.nupkg'.\r\n"
          },
          "execution_count": 1,
          "metadata": {}
        },
        {
          "output_type": "execute_result",
          "data": {
            "text/plain": "\r\n"
          },
          "execution_count": 1,
          "metadata": {}
        },
        {
          "output_type": "execute_result",
          "data": {
            "text/plain": "    Directory: C:\\Users\\grego\\source\\repos\\Deedle.DotNet.Interactive.Extension\\src\\Deedle.DotNet.In\r\n"
          },
          "execution_count": 1,
          "metadata": {}
        },
        {
          "output_type": "execute_result",
          "data": {
            "text/plain": "teractive.Extension\\bin\\Debug\r\n"
          },
          "execution_count": 1,
          "metadata": {}
        },
        {
          "output_type": "execute_result",
          "data": {
            "text/plain": "\r\n"
          },
          "execution_count": 1,
          "metadata": {}
        },
        {
          "output_type": "execute_result",
          "data": {
            "text/plain": "Mode                 LastWriteTime         Length Name\r\n"
          },
          "execution_count": 1,
          "metadata": {}
        },
        {
          "output_type": "execute_result",
          "data": {
            "text/plain": "----                 -------------         ------ ----\r\n"
          },
          "execution_count": 1,
          "metadata": {}
        },
        {
          "output_type": "execute_result",
          "data": {
            "text/plain": "-a---          12.03.2021    14:35          30237 Deedle.DotNet.Interactive.Extension.0.1.0-dev22.n\r\n"
          },
          "execution_count": 1,
          "metadata": {}
        },
        {
          "output_type": "execute_result",
          "data": {
            "text/plain": "                                                  upkg\r\n"
          },
          "execution_count": 1,
          "metadata": {}
        },
        {
          "output_type": "execute_result",
          "data": {
            "text/plain": "\r\n"
          },
          "execution_count": 1,
          "metadata": {}
        }
      ]
    },
    {
      "cell_type": "code",
      "execution_count": 1,
      "metadata": {
        "dotnet_interactive": {
          "language": "fsharp"
        }
      },
      "source": [
        "#r \"nuget: Deedle\""
      ],
      "outputs": [
        {
          "output_type": "execute_result",
          "data": {
            "text/plain": "Installed package Deedle version 2.3.0"
          },
          "execution_count": 1,
          "metadata": {}
        }
      ]
    },
    {
      "cell_type": "code",
      "execution_count": 1,
      "metadata": {
        "dotnet_interactive": {
          "language": "fsharp"
        }
      },
      "source": [
        "#i \"nuget: C:/Users/grego/source/repos/Deedle.DotNet.Interactive.Extension/src/Deedle.DotNet.Interactive.Extension/bin/Debug\"\n",
        "#r \"nuget: Deedle.DotNet.Interactive.Extension,0.1.0-dev22\""
      ],
      "outputs": [
        {
          "output_type": "execute_result",
          "data": {
            "text/html": "<div><strong>Restore sources</strong><ul><li><span> C:/Users/grego/source/repos/Deedle.DotNet.Interactive.Extension/src/Deedle.DotNet.Interactive.Extension/bin/Debug</span></li></ul></div>"
          },
          "execution_count": 1,
          "metadata": {}
        },
        {
          "output_type": "execute_result",
          "data": {
            "text/plain": "Installed package Deedle.DotNet.Interactive.Extension version 0.1.0-dev22"
          },
          "execution_count": 1,
          "metadata": {}
        },
        {
          "output_type": "execute_result",
          "data": {
            "text/markdown": "Loading extensions from `Deedle.DotNet.Interactive.Extension.dll`"
          },
          "execution_count": 1,
          "metadata": {}
        },
        {
          "output_type": "execute_result",
          "data": {
            "text/markdown": "Added DeedleFormatterExtension including formatters for Frame and Series"
          },
          "execution_count": 1,
          "metadata": {}
        }
      ]
    },
    {
      "cell_type": "code",
      "execution_count": 1,
      "metadata": {
        "dotnet_interactive": {
          "language": "fsharp"
        }
      },
      "source": [
        "open Deedle"
      ],
      "outputs": []
    },
    {
      "cell_type": "code",
      "execution_count": 1,
      "metadata": {
        "dotnet_interactive": {
          "language": "fsharp"
        }
      },
      "source": [
        "let seriesA =\n",
        "    [1..100]\n",
        "    |> Series.ofValues\n",
        "\n",
        "seriesA"
      ],
      "outputs": [
        {
          "output_type": "execute_result",
          "data": {
            "text/html": "<div><table><caption>A series: 100 values. Key type: System.Int32</caption><thead><thead><th>Keys</th><th>0</th><th>1</th><th>2</th><th>3</th><th>4</th><th>5</th><th>6</th><th>7</th><th>8</th><th>9</th><th>10</th><th>11</th><th>12</th><th>13</th><th>14</th><th>...</th></thead></thead><tbody><td>Values</td><td>1</td><td>2</td><td>3</td><td>4</td><td>5</td><td>6</td><td>7</td><td>8</td><td>9</td><td>10</td><td>11</td><td>12</td><td>13</td><td>14</td><td>15</td><th>...</th></tbody></table></div>"
          },
          "execution_count": 1,
          "metadata": {}
        }
      ]
    },
    {
      "cell_type": "code",
      "execution_count": 1,
      "metadata": {
        "dotnet_interactive": {
          "language": "fsharp"
        }
      },
      "source": [
        "let seriesB =\n",
        "    List.init 100 (fun i ->\n",
        "        let currentNumber = i + 1\n",
        "        if currentNumber % 2 <> 0 then (i, None) else (i, Some currentNumber))\n",
        "    |> Series.ofOptionalObservations\n",
        "\n",
        "seriesB"
      ],
      "outputs": [
        {
          "output_type": "execute_result",
          "data": {
            "text/html": "<div><table><caption>A series: 100 values. Key type: System.Int32</caption><thead><thead><th>Keys</th><th>0</th><th>1</th><th>2</th><th>3</th><th>4</th><th>5</th><th>6</th><th>7</th><th>8</th><th>9</th><th>10</th><th>11</th><th>12</th><th>13</th><th>14</th><th>...</th></thead></thead><tbody><td>Values</td><td>&lt;missing&gt;</td><td>2</td><td>&lt;missing&gt;</td><td>4</td><td>&lt;missing&gt;</td><td>6</td><td>&lt;missing&gt;</td><td>8</td><td>&lt;missing&gt;</td><td>10</td><td>&lt;missing&gt;</td><td>12</td><td>&lt;missing&gt;</td><td>14</td><td>&lt;missing&gt;</td><th>...</th></tbody></table></div>"
          },
          "execution_count": 1,
          "metadata": {}
        }
      ]
    },
    {
      "cell_type": "code",
      "execution_count": 1,
      "metadata": {
        "dotnet_interactive": {
          "language": "fsharp"
        }
      },
      "source": [
        "let frame =\n",
        "    [ (\"A\", seriesA); (\"B\", seriesB) ]\n",
        "    |> Frame.ofColumns\n",
        "\n",
        "frame"
      ],
      "outputs": [
        {
          "output_type": "execute_result",
          "data": {
            "text/html": "<div><table><caption>A frame: 100 x 2</caption><thead><tr><th></th><th>A</th><th>B</th></tr><tr><th></th><th>System.Int32</th><th>System.Int32</th></tr></thead><tbody><tr><td><div class=\"dni-plaintext\">0</div></td><td><div class=\"dni-plaintext\">1</div></td><td><div class=\"dni-plaintext\">N/A</div></td></tr><tr><td><div class=\"dni-plaintext\">1</div></td><td><div class=\"dni-plaintext\">2</div></td><td><div class=\"dni-plaintext\">2</div></td></tr><tr><td><div class=\"dni-plaintext\">2</div></td><td><div class=\"dni-plaintext\">3</div></td><td><div class=\"dni-plaintext\">N/A</div></td></tr><tr><td><div class=\"dni-plaintext\">3</div></td><td><div class=\"dni-plaintext\">4</div></td><td><div class=\"dni-plaintext\">4</div></td></tr><tr><td><div class=\"dni-plaintext\">4</div></td><td><div class=\"dni-plaintext\">5</div></td><td><div class=\"dni-plaintext\">N/A</div></td></tr><tr><td><div class=\"dni-plaintext\">5</div></td><td><div class=\"dni-plaintext\">6</div></td><td><div class=\"dni-plaintext\">6</div></td></tr><tr><td><div class=\"dni-plaintext\">6</div></td><td><div class=\"dni-plaintext\">7</div></td><td><div class=\"dni-plaintext\">N/A</div></td></tr><tr><td><div class=\"dni-plaintext\">7</div></td><td><div class=\"dni-plaintext\">8</div></td><td><div class=\"dni-plaintext\">8</div></td></tr><tr><td><div class=\"dni-plaintext\">8</div></td><td><div class=\"dni-plaintext\">9</div></td><td><div class=\"dni-plaintext\">N/A</div></td></tr><tr><td><div class=\"dni-plaintext\">9</div></td><td><div class=\"dni-plaintext\">10</div></td><td><div class=\"dni-plaintext\">10</div></td></tr><tr><td><div class=\"dni-plaintext\">10</div></td><td><div class=\"dni-plaintext\">11</div></td><td><div class=\"dni-plaintext\">N/A</div></td></tr><tr><td><div class=\"dni-plaintext\">11</div></td><td><div class=\"dni-plaintext\">12</div></td><td><div class=\"dni-plaintext\">12</div></td></tr><tr><td><div class=\"dni-plaintext\">12</div></td><td><div class=\"dni-plaintext\">13</div></td><td><div class=\"dni-plaintext\">N/A</div></td></tr><tr><td><div class=\"dni-plaintext\">13</div></td><td><div class=\"dni-plaintext\">14</div></td><td><div class=\"dni-plaintext\">14</div></td></tr><tr><td><div class=\"dni-plaintext\">14</div></td><td><div class=\"dni-plaintext\">15</div></td><td><div class=\"dni-plaintext\">N/A</div></td></tr><tr><td><div class=\"dni-plaintext\">15</div></td><td><div class=\"dni-plaintext\">16</div></td><td><div class=\"dni-plaintext\">16</div></td></tr><tr><td><div class=\"dni-plaintext\">16</div></td><td><div class=\"dni-plaintext\">17</div></td><td><div class=\"dni-plaintext\">N/A</div></td></tr><tr><td><div class=\"dni-plaintext\">17</div></td><td><div class=\"dni-plaintext\">18</div></td><td><div class=\"dni-plaintext\">18</div></td></tr><tr><td><div class=\"dni-plaintext\">18</div></td><td><div class=\"dni-plaintext\">19</div></td><td><div class=\"dni-plaintext\">N/A</div></td></tr><tr><td><div class=\"dni-plaintext\">19</div></td><td><div class=\"dni-plaintext\">20</div></td><td><div class=\"dni-plaintext\">20</div></td></tr><tr><td>...</td><td>...</td><td>...</td></tr></tbody></table><div><p><span>...with 80 additional rows</span></p></div></div>"
          },
          "execution_count": 1,
          "metadata": {}
        }
      ]
    },
    {
      "cell_type": "code",
      "execution_count": 1,
      "metadata": {
        "dotnet_interactive": {
          "language": "fsharp"
        }
      },
      "source": [
        "#i \"nuget:https://pkgs.dev.azure.com/dnceng/public/_packaging/dotnet5/nuget/v3/index.json\"\n",
        "#i \"nuget:https://pkgs.dev.azure.com/dnceng/public/_packaging/dotnet-tools/nuget/v3/index.json\"\n",
        "#r \"nuget:Microsoft.DotNet.Interactive.ExtensionLab,*-*\""
      ],
      "outputs": [
        {
          "output_type": "execute_result",
          "data": {
            "text/html": "<div><strong>Restore sources</strong><ul><li><span> C:/Users/grego/source/repos/Deedle.DotNet.Interactive.Extension/src/Deedle.DotNet.Interactive.Extension/bin/Debug</span></li><li><span>https://pkgs.dev.azure.com/dnceng/public/_packaging/dotnet5/nuget/v3/index.json</span></li></ul></div>"
          },
          "execution_count": 1,
          "metadata": {}
        },
        {
          "output_type": "execute_result",
          "data": {
            "text/html": "<div><strong>Restore sources</strong><ul><li><span> C:/Users/grego/source/repos/Deedle.DotNet.Interactive.Extension/src/Deedle.DotNet.Interactive.Extension/bin/Debug</span></li><li><span>https://pkgs.dev.azure.com/dnceng/public/_packaging/dotnet5/nuget/v3/index.json</span></li><li><span>https://pkgs.dev.azure.com/dnceng/public/_packaging/dotnet-tools/nuget/v3/index.json</span></li></ul></div>"
          },
          "execution_count": 1,
          "metadata": {}
        },
        {
          "output_type": "execute_result",
          "data": {
            "text/plain": "Installed package Microsoft.DotNet.Interactive.ExtensionLab version 1.0.0-beta.21161.5"
          },
          "execution_count": 1,
          "metadata": {}
        },
        {
          "output_type": "execute_result",
          "data": {
            "text/markdown": "Loading extensions from `Microsoft.DotNet.Interactive.ExtensionLab.dll`"
          },
          "execution_count": 1,
          "metadata": {}
        },
        {
          "output_type": "execute_result",
          "data": {
            "text/html": "<details><summary>Create strongly-typed dataframes using<code>#!linqify</code>.</summary>\r\n    <p>The <code>#!linqify</code> magic command replaces a <a href=\"https://www.nuget.org/packages/Microsoft.Data.Analysis/\"><code>Microsoft.Data.Analysis.DataFrame</code></a> variable with a generated, strongly-typed data frame, allowing the use of LINQ operations over the contained data.</p>\r\n    </details>"
          },
          "execution_count": 1,
          "metadata": {}
        },
        {
          "output_type": "execute_result",
          "data": {
            "text/html": "<details><summary>Inspect code compilation details using the <code>#!inspect</code> magic command.</summary>\r\n    <p>The <code>#!inspect</code> magic command allows you to see the C# decompilation, IL, and JIT Asm for the code in a C# cell.</p>\r\n    <img src=\"https://user-images.githubusercontent.com/547415/109560515-d5749a00-7a90-11eb-9fa3-51b737345bb4.png\" width=\"75%\" />\r\n    </details>"
          },
          "execution_count": 1,
          "metadata": {}
        },
        {
          "output_type": "execute_result",
          "data": {
            "text/html": "<details><summary>Explore data visually using the <a href=\"https://github.com/nteract/data-explorer\">nteract Data Explorer</a>.</summary>\r\n    <p>This extension adds the ability to sort, filter, and visualize data using the <a href=\"https://github.com/nteract/data-explorer\">nteract Data Explorer</a>. Use the <code>Explore</code> extension method with variables of type <code>IEnumerable<T></code> or <code>IDataView</code> to render the data explorer.</p>\r\n    <img src=\"https://user-images.githubusercontent.com/547415/109559345-621e5880-7a8f-11eb-8b98-d4feeaac116f.png\" width=\"75%\">\r\n    </details>"
          },
          "execution_count": 1,
          "metadata": {}
        },
        {
          "output_type": "execute_result",
          "data": {
            "text/html": "<details><summary>Use the <code>#!record</code> magic command to keep a transcript of the code you run.</summary>\r\n    <p>Once you enable transcripts using <code>#!record</code>, each code submission (including re-running cells) is recorded in the specified file. The JSON format used is the same format recognized by the .NET Interactive <code>stdio</code> and <code>http</code> APIs and can be used to replay a notebook session via automation.</p>\r\n    <img src=\"https://user-images.githubusercontent.com/547415/109562409-343b1300-7a93-11eb-8ebf-79bb6af028cf.png\" width=\"75%\" />\r\n    </details>"
          },
          "execution_count": 1,
          "metadata": {}
        },
        {
          "output_type": "execute_result",
          "data": {
            "text/html": "<details><summary>Explore data visually using the <a href=\"https://github.com/microsoft/SandDance\">SandDance Explorer</a>.</summary>\r\n    <p>This extension adds the ability to sort, filter, and visualize data using the <a href=\"https://github.com/microsoft/SandDance\">SandDance Explorer</a>. Use the <code>ExploreWithSandDance</code> extension method with variables of type <code>IEnumerable<T></code> or <code>IDataView</code> to render the data explorer.</p>\r\n<pre>\r\n    <code>\r\n    using Microsoft.Data.Analysis;\r\n    using System.Collections.Generic;\r\n    using Microsoft.ML;\r\n\r\n    var dataFrame = DataFrame.LoadCsv(\"./Data.csv\");\r\n\r\n    dataFrame.ExploreWithSandDance()\r\n    </code>\r\n</pre>\r\n    <img src=\"https://user-images.githubusercontent.com/11507384/54236654-52d42800-44d1-11e9-859e-6c5d297a46d2.gif\" width=\"30%\">\r\n    </details>"
          },
          "execution_count": 1,
          "metadata": {}
        },
        {
          "output_type": "execute_result",
          "data": {
            "text/html": "<details><summary>Query SQLite databases.</summary>\r\n    <p>This extension adds support for connecting to SQLite databases using the <code>#!connect sqlite</code> magic command. For more information, run a cell using the <code>#!sql</code> magic command.</p>\r\n    </details>"
          },
          "execution_count": 1,
          "metadata": {}
        }
      ]
    },
    {
      "cell_type": "code",
      "execution_count": 1,
      "metadata": {
        "dotnet_interactive": {
          "language": "fsharp"
        }
      },
      "source": [
        "open Deedle.DotNet.Interactive.Extension.Formatting\n",
        "\n",
        "let frame' =\n",
        "    frame\n",
        "    |> Frame.dropSparseRows\n",
        "    |> Frame.addCol \"C\" (Series.ofValues [ for x in 1 .. frame.RowCount do x * 2])\n",
        "\n",
        "toTabularJsonData frame'"
      ],
      "outputs": [
        {
          "output_type": "execute_result",
          "data": {
            "text/html": "<div style=\"background-color:white;\">\r\n<div id=\"609d570ce02840cf9ee08816203e0b6b\" style=\"height: 100ch ;margin: 2px;\">\r\n</div>\r\n<script type=\"text/javascript\">\r\n\r\nlet renderDataExplorer_609d570ce02840cf9ee08816203e0b6b = () => {\r\n\r\n    configureRequireFromExtension('nteract','1.0.0')(['nteract/nteractapi'], (nteract) => {\r\n\r\n        nteract.createDataExplorer({\r\n            data: {\r\n  \"schema\": {\r\n    \"primaryKey\": [],\r\n    \"fields\": [\r\n      {\r\n        \"name\": \"A\",\r\n        \"type\": \"integer\"\r\n      },\r\n      {\r\n        \"name\": \"B\",\r\n        \"type\": \"integer\"\r\n      },\r\n      {\r\n        \"name\": \"C\",\r\n        \"type\": \"integer\"\r\n      }\r\n    ]\r\n  },\r\n  \"data\": [\r\n    {\r\n      \"A\": 2,\r\n      \"B\": 2,\r\n      \"C\": 4\r\n    },\r\n    {\r\n      \"A\": 4,\r\n      \"B\": 4,\r\n      \"C\": 8\r\n    },\r\n    {\r\n      \"A\": 6,\r\n      \"B\": 6,\r\n      \"C\": 12\r\n    },\r\n    {\r\n      \"A\": 8,\r\n      \"B\": 8,\r\n      \"C\": 16\r\n    },\r\n    {\r\n      \"A\": 10,\r\n      \"B\": 10,\r\n      \"C\": 20\r\n    },\r\n    {\r\n      \"A\": 12,\r\n      \"B\": 12,\r\n      \"C\": 24\r\n    },\r\n    {\r\n      \"A\": 14,\r\n      \"B\": 14,\r\n      \"C\": 28\r\n    },\r\n    {\r\n      \"A\": 16,\r\n      \"B\": 16,\r\n      \"C\": 32\r\n    },\r\n    {\r\n      \"A\": 18,\r\n      \"B\": 18,\r\n      \"C\": 36\r\n    },\r\n    {\r\n      \"A\": 20,\r\n      \"B\": 20,\r\n      \"C\": 40\r\n    },\r\n    {\r\n      \"A\": 22,\r\n      \"B\": 22,\r\n      \"C\": 44\r\n    },\r\n    {\r\n      \"A\": 24,\r\n      \"B\": 24,\r\n      \"C\": 48\r\n    },\r\n    {\r\n      \"A\": 26,\r\n      \"B\": 26,\r\n      \"C\": 52\r\n    },\r\n    {\r\n      \"A\": 28,\r\n      \"B\": 28,\r\n      \"C\": 56\r\n    },\r\n    {\r\n      \"A\": 30,\r\n      \"B\": 30,\r\n      \"C\": 60\r\n    },\r\n    {\r\n      \"A\": 32,\r\n      \"B\": 32,\r\n      \"C\": 64\r\n    },\r\n    {\r\n      \"A\": 34,\r\n      \"B\": 34,\r\n      \"C\": 68\r\n    },\r\n    {\r\n      \"A\": 36,\r\n      \"B\": 36,\r\n      \"C\": 72\r\n    },\r\n    {\r\n      \"A\": 38,\r\n      \"B\": 38,\r\n      \"C\": 76\r\n    },\r\n    {\r\n      \"A\": 40,\r\n      \"B\": 40,\r\n      \"C\": 80\r\n    },\r\n    {\r\n      \"A\": 42,\r\n      \"B\": 42,\r\n      \"C\": 84\r\n    },\r\n    {\r\n      \"A\": 44,\r\n      \"B\": 44,\r\n      \"C\": 88\r\n    },\r\n    {\r\n      \"A\": 46,\r\n      \"B\": 46,\r\n      \"C\": 92\r\n    },\r\n    {\r\n      \"A\": 48,\r\n      \"B\": 48,\r\n      \"C\": 96\r\n    },\r\n    {\r\n      \"A\": 50,\r\n      \"B\": 50,\r\n      \"C\": 100\r\n    },\r\n    {\r\n      \"A\": 52,\r\n      \"B\": 52,\r\n      \"C\": 104\r\n    },\r\n    {\r\n      \"A\": 54,\r\n      \"B\": 54,\r\n      \"C\": 108\r\n    },\r\n    {\r\n      \"A\": 56,\r\n      \"B\": 56,\r\n      \"C\": 112\r\n    },\r\n    {\r\n      \"A\": 58,\r\n      \"B\": 58,\r\n      \"C\": 116\r\n    },\r\n    {\r\n      \"A\": 60,\r\n      \"B\": 60,\r\n      \"C\": 120\r\n    },\r\n    {\r\n      \"A\": 62,\r\n      \"B\": 62,\r\n      \"C\": 124\r\n    },\r\n    {\r\n      \"A\": 64,\r\n      \"B\": 64,\r\n      \"C\": 128\r\n    },\r\n    {\r\n      \"A\": 66,\r\n      \"B\": 66,\r\n      \"C\": 132\r\n    },\r\n    {\r\n      \"A\": 68,\r\n      \"B\": 68,\r\n      \"C\": 136\r\n    },\r\n    {\r\n      \"A\": 70,\r\n      \"B\": 70,\r\n      \"C\": 140\r\n    },\r\n    {\r\n      \"A\": 72,\r\n      \"B\": 72,\r\n      \"C\": 144\r\n    },\r\n    {\r\n      \"A\": 74,\r\n      \"B\": 74,\r\n      \"C\": 148\r\n    },\r\n    {\r\n      \"A\": 76,\r\n      \"B\": 76,\r\n      \"C\": 152\r\n    },\r\n    {\r\n      \"A\": 78,\r\n      \"B\": 78,\r\n      \"C\": 156\r\n    },\r\n    {\r\n      \"A\": 80,\r\n      \"B\": 80,\r\n      \"C\": 160\r\n    },\r\n    {\r\n      \"A\": 82,\r\n      \"B\": 82,\r\n      \"C\": 164\r\n    },\r\n    {\r\n      \"A\": 84,\r\n      \"B\": 84,\r\n      \"C\": 168\r\n    },\r\n    {\r\n      \"A\": 86,\r\n      \"B\": 86,\r\n      \"C\": 172\r\n    },\r\n    {\r\n      \"A\": 88,\r\n      \"B\": 88,\r\n      \"C\": 176\r\n    },\r\n    {\r\n      \"A\": 90,\r\n      \"B\": 90,\r\n      \"C\": 180\r\n    },\r\n    {\r\n      \"A\": 92,\r\n      \"B\": 92,\r\n      \"C\": 184\r\n    },\r\n    {\r\n      \"A\": 94,\r\n      \"B\": 94,\r\n      \"C\": 188\r\n    },\r\n    {\r\n      \"A\": 96,\r\n      \"B\": 96,\r\n      \"C\": 192\r\n    },\r\n    {\r\n      \"A\": 98,\r\n      \"B\": 98,\r\n      \"C\": 196\r\n    },\r\n    {\r\n      \"A\": 100,\r\n      \"B\": 100,\r\n      \"C\": 200\r\n    }\r\n  ]\r\n},\r\n            container: document.getElementById(\"609d570ce02840cf9ee08816203e0b6b\")\r\n        });\r\n    },\r\n    (error) => {\r\n        console.log(error);\r\n    });\r\n};\r\n// ensure `require` is available globally\r\nif ((typeof(require) !==  typeof(Function)) || (typeof(require.config) !== typeof(Function))) {\r\n    let require_script = document.createElement('script');\r\n    require_script.setAttribute('src', 'https://cdnjs.cloudflare.com/ajax/libs/require.js/2.3.6/require.min.js');\r\n    require_script.setAttribute('type', 'text/javascript');\r\n    \r\n    \r\n    require_script.onload = function() {\r\n        renderDataExplorer_609d570ce02840cf9ee08816203e0b6b();\r\n    };\r\n\r\n    document.getElementsByTagName('head')[0].appendChild(require_script);\r\n}\r\nelse {\r\n    renderDataExplorer_609d570ce02840cf9ee08816203e0b6b();\r\n}\r\n\r\n </script>\r\n</div>\r\n"
          },
          "execution_count": 1,
          "metadata": {}
        }
      ]
    },
    {
      "cell_type": "code",
      "execution_count": 1,
      "metadata": {
        "dotnet_interactive": {
          "language": "fsharp"
        }
      },
      "source": [
        "module ExploreDemos =\n",
        "    open Microsoft.DotNet.Interactive.Formatting\n",
        "\n",
        "    let exploreWithSandDance (frame: Frame<'a, 'b>) =\n",
        "        let tabularJsonData = toTabularJsonData frame\n",
        "        tabularJsonData.ExploreWithSandDance()\n",
        "\n",
        "ExploreDemos.exploreWithSandDance frame'"
      ],
      "outputs": [
        {
          "output_type": "execute_result",
          "data": {
            "text/html": "<div style=\"background-color:white;\">\r\n<div id=\"264737e1bee642a388308fd2f746c38e\" style=\"height: 100ch ;margin: 2px;\">\r\n</div>\r\n<script type=\"text/javascript\">\r\n\r\nlet renderSandDanceExplorer_264737e1bee642a388308fd2f746c38e = () => {\r\n\r\n    configureRequireFromExtension('SandDance','1.0.0')(['SandDance/sanddanceapi'], (sandDance) => {\r\n\r\n        sandDance.createSandDanceExplorer({\r\n            data: {\r\n  \"schema\": {\r\n    \"primaryKey\": [],\r\n    \"fields\": [\r\n      {\r\n        \"name\": \"A\",\r\n        \"type\": \"integer\"\r\n      },\r\n      {\r\n        \"name\": \"B\",\r\n        \"type\": \"integer\"\r\n      },\r\n      {\r\n        \"name\": \"C\",\r\n        \"type\": \"integer\"\r\n      }\r\n    ]\r\n  },\r\n  \"data\": [\r\n    {\r\n      \"A\": 2,\r\n      \"B\": 2,\r\n      \"C\": 4\r\n    },\r\n    {\r\n      \"A\": 4,\r\n      \"B\": 4,\r\n      \"C\": 8\r\n    },\r\n    {\r\n      \"A\": 6,\r\n      \"B\": 6,\r\n      \"C\": 12\r\n    },\r\n    {\r\n      \"A\": 8,\r\n      \"B\": 8,\r\n      \"C\": 16\r\n    },\r\n    {\r\n      \"A\": 10,\r\n      \"B\": 10,\r\n      \"C\": 20\r\n    },\r\n    {\r\n      \"A\": 12,\r\n      \"B\": 12,\r\n      \"C\": 24\r\n    },\r\n    {\r\n      \"A\": 14,\r\n      \"B\": 14,\r\n      \"C\": 28\r\n    },\r\n    {\r\n      \"A\": 16,\r\n      \"B\": 16,\r\n      \"C\": 32\r\n    },\r\n    {\r\n      \"A\": 18,\r\n      \"B\": 18,\r\n      \"C\": 36\r\n    },\r\n    {\r\n      \"A\": 20,\r\n      \"B\": 20,\r\n      \"C\": 40\r\n    },\r\n    {\r\n      \"A\": 22,\r\n      \"B\": 22,\r\n      \"C\": 44\r\n    },\r\n    {\r\n      \"A\": 24,\r\n      \"B\": 24,\r\n      \"C\": 48\r\n    },\r\n    {\r\n      \"A\": 26,\r\n      \"B\": 26,\r\n      \"C\": 52\r\n    },\r\n    {\r\n      \"A\": 28,\r\n      \"B\": 28,\r\n      \"C\": 56\r\n    },\r\n    {\r\n      \"A\": 30,\r\n      \"B\": 30,\r\n      \"C\": 60\r\n    },\r\n    {\r\n      \"A\": 32,\r\n      \"B\": 32,\r\n      \"C\": 64\r\n    },\r\n    {\r\n      \"A\": 34,\r\n      \"B\": 34,\r\n      \"C\": 68\r\n    },\r\n    {\r\n      \"A\": 36,\r\n      \"B\": 36,\r\n      \"C\": 72\r\n    },\r\n    {\r\n      \"A\": 38,\r\n      \"B\": 38,\r\n      \"C\": 76\r\n    },\r\n    {\r\n      \"A\": 40,\r\n      \"B\": 40,\r\n      \"C\": 80\r\n    },\r\n    {\r\n      \"A\": 42,\r\n      \"B\": 42,\r\n      \"C\": 84\r\n    },\r\n    {\r\n      \"A\": 44,\r\n      \"B\": 44,\r\n      \"C\": 88\r\n    },\r\n    {\r\n      \"A\": 46,\r\n      \"B\": 46,\r\n      \"C\": 92\r\n    },\r\n    {\r\n      \"A\": 48,\r\n      \"B\": 48,\r\n      \"C\": 96\r\n    },\r\n    {\r\n      \"A\": 50,\r\n      \"B\": 50,\r\n      \"C\": 100\r\n    },\r\n    {\r\n      \"A\": 52,\r\n      \"B\": 52,\r\n      \"C\": 104\r\n    },\r\n    {\r\n      \"A\": 54,\r\n      \"B\": 54,\r\n      \"C\": 108\r\n    },\r\n    {\r\n      \"A\": 56,\r\n      \"B\": 56,\r\n      \"C\": 112\r\n    },\r\n    {\r\n      \"A\": 58,\r\n      \"B\": 58,\r\n      \"C\": 116\r\n    },\r\n    {\r\n      \"A\": 60,\r\n      \"B\": 60,\r\n      \"C\": 120\r\n    },\r\n    {\r\n      \"A\": 62,\r\n      \"B\": 62,\r\n      \"C\": 124\r\n    },\r\n    {\r\n      \"A\": 64,\r\n      \"B\": 64,\r\n      \"C\": 128\r\n    },\r\n    {\r\n      \"A\": 66,\r\n      \"B\": 66,\r\n      \"C\": 132\r\n    },\r\n    {\r\n      \"A\": 68,\r\n      \"B\": 68,\r\n      \"C\": 136\r\n    },\r\n    {\r\n      \"A\": 70,\r\n      \"B\": 70,\r\n      \"C\": 140\r\n    },\r\n    {\r\n      \"A\": 72,\r\n      \"B\": 72,\r\n      \"C\": 144\r\n    },\r\n    {\r\n      \"A\": 74,\r\n      \"B\": 74,\r\n      \"C\": 148\r\n    },\r\n    {\r\n      \"A\": 76,\r\n      \"B\": 76,\r\n      \"C\": 152\r\n    },\r\n    {\r\n      \"A\": 78,\r\n      \"B\": 78,\r\n      \"C\": 156\r\n    },\r\n    {\r\n      \"A\": 80,\r\n      \"B\": 80,\r\n      \"C\": 160\r\n    },\r\n    {\r\n      \"A\": 82,\r\n      \"B\": 82,\r\n      \"C\": 164\r\n    },\r\n    {\r\n      \"A\": 84,\r\n      \"B\": 84,\r\n      \"C\": 168\r\n    },\r\n    {\r\n      \"A\": 86,\r\n      \"B\": 86,\r\n      \"C\": 172\r\n    },\r\n    {\r\n      \"A\": 88,\r\n      \"B\": 88,\r\n      \"C\": 176\r\n    },\r\n    {\r\n      \"A\": 90,\r\n      \"B\": 90,\r\n      \"C\": 180\r\n    },\r\n    {\r\n      \"A\": 92,\r\n      \"B\": 92,\r\n      \"C\": 184\r\n    },\r\n    {\r\n      \"A\": 94,\r\n      \"B\": 94,\r\n      \"C\": 188\r\n    },\r\n    {\r\n      \"A\": 96,\r\n      \"B\": 96,\r\n      \"C\": 192\r\n    },\r\n    {\r\n      \"A\": 98,\r\n      \"B\": 98,\r\n      \"C\": 196\r\n    },\r\n    {\r\n      \"A\": 100,\r\n      \"B\": 100,\r\n      \"C\": 200\r\n    }\r\n  ]\r\n},\r\n            container: document.getElementById(\"264737e1bee642a388308fd2f746c38e\")\r\n        });\r\n    },\r\n    (error) => {\r\n        console.log(error);\r\n    });\r\n};\r\n// ensure `require` is available globally\r\nif ((typeof(require) !==  typeof(Function)) || (typeof(require.config) !== typeof(Function))) {\r\n    let require_script = document.createElement('script');\r\n    require_script.setAttribute('src', 'https://cdnjs.cloudflare.com/ajax/libs/require.js/2.3.6/require.min.js');\r\n    require_script.setAttribute('type', 'text/javascript');\r\n    \r\n    \r\n    require_script.onload = function() {\r\n        renderSandDanceExplorer_264737e1bee642a388308fd2f746c38e();\r\n    };\r\n\r\n    document.getElementsByTagName('head')[0].appendChild(require_script);\r\n}\r\nelse {\r\n    renderSandDanceExplorer_264737e1bee642a388308fd2f746c38e();\r\n}\r\n\r\n </script>\r\n</div>\r\n"
          },
          "execution_count": 1,
          "metadata": {}
        }
      ]
    }
  ],
  "metadata": {
    "kernelspec": {
      "display_name": ".NET (C#)",
      "language": "C#",
      "name": ".net-csharp"
    },
    "language_info": {
      "file_extension": ".cs",
      "mimetype": "text/x-csharp",
      "name": "C#",
      "pygments_lexer": "csharp",
      "version": "8.0"
    }
  },
  "nbformat": 4,
  "nbformat_minor": 4
}