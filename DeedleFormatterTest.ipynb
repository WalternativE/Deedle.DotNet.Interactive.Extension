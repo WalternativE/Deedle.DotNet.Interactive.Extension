{
 "cells": [
  {
   "cell_type": "code",
   "execution_count": 1,
   "metadata": {},
   "source": [
    "#!fsharp\n",
    "#!pwsh\n",
    "rm -rf /home/gregor/source/repos/Deedle.DotNet.Interactive.Extension/src/Deedle.DotNet.Interactive.Extension/bin\n",
    "\n",
    "dotnet build\n",
    "\n",
    "dotnet pack /p:PackageVersion=0.1.0-dev12\n",
    "\n",
    "Get-ChildItem -Recurse Deedle.DotNet.Interactive.Extension*.nupkg"
   ],
   "outputs": [
    {
     "output_type": "execute_result",
     "data": {
      "text/plain": "Microsoft (R) Build Engine version 16.8.0+126527ff1 for .NET\n"
     },
     "execution_count": 1,
     "metadata": {}
    },
    {
     "output_type": "execute_result",
     "data": {
      "text/plain": "Copyright (C) Microsoft Corporation. All rights reserved.\n"
     },
     "execution_count": 1,
     "metadata": {}
    },
    {
     "output_type": "execute_result",
     "data": {
      "text/plain": "\n"
     },
     "execution_count": 1,
     "metadata": {}
    },
    {
     "output_type": "execute_result",
     "data": {
      "text/plain": "  Determining projects to restore...\n"
     },
     "execution_count": 1,
     "metadata": {}
    },
    {
     "output_type": "execute_result",
     "data": {
      "text/plain": "/home/gregor/source/repos/Deedle.DotNet.Interactive.Extension/src/Deedle.DotNet.Interactive.Extension/Deedle.DotNet.Interactive.Extension.fsproj : warning NU1605: Detected package downgrade: FSharp.Core from 5.0.1-beta.20552.1 to 5.0.0. Reference the package directly from the project to select a different version.  [/home/gregor/source/repos/Deedle.DotNet.Interactive.Extension/Deedle.DotNet.Interactive.Extension.sln]\n"
     },
     "execution_count": 1,
     "metadata": {}
    },
    {
     "output_type": "execute_result",
     "data": {
      "text/plain": "/home/gregor/source/repos/Deedle.DotNet.Interactive.Extension/src/Deedle.DotNet.Interactive.Extension/Deedle.DotNet.Interactive.Extension.fsproj : warning NU1605:  Deedle.DotNet.Interactive.Extension -> Microsoft.DotNet.Interactive.FSharp 1.0.0-beta.20574.9 -> Microsoft.DotNet.Interactive.FSharp.Internal 1.0.0-beta.20574.9 -> FSharp.Core (>= 5.0.1-beta.20552.1)  [/home/gregor/source/repos/Deedle.DotNet.Interactive.Extension/Deedle.DotNet.Interactive.Extension.sln]\n"
     },
     "execution_count": 1,
     "metadata": {}
    },
    {
     "output_type": "execute_result",
     "data": {
      "text/plain": "/home/gregor/source/repos/Deedle.DotNet.Interactive.Extension/src/Deedle.DotNet.Interactive.Extension/Deedle.DotNet.Interactive.Extension.fsproj : warning NU1605:  Deedle.DotNet.Interactive.Extension -> FSharp.Core (>= 5.0.0) [/home/gregor/source/repos/Deedle.DotNet.Interactive.Extension/Deedle.DotNet.Interactive.Extension.sln]\n"
     },
     "execution_count": 1,
     "metadata": {}
    },
    {
     "output_type": "execute_result",
     "data": {
      "text/plain": "  Restored /home/gregor/source/repos/Deedle.DotNet.Interactive.Extension/src/Deedle.DotNet.Interactive.Extension/Deedle.DotNet.Interactive.Extension.fsproj (in 481 ms).\n"
     },
     "execution_count": 1,
     "metadata": {}
    },
    {
     "output_type": "execute_result",
     "data": {
      "text/plain": "/home/gregor/source/repos/Deedle.DotNet.Interactive.Extension/src/Deedle.DotNet.Interactive.Extension/Deedle.DotNet.Interactive.Extension.fsproj : warning NU1605: Detected package downgrade: FSharp.Core from 5.0.1-beta.20552.1 to 5.0.0. Reference the package directly from the project to select a different version. \n"
     },
     "execution_count": 1,
     "metadata": {}
    },
    {
     "output_type": "execute_result",
     "data": {
      "text/plain": "/home/gregor/source/repos/Deedle.DotNet.Interactive.Extension/src/Deedle.DotNet.Interactive.Extension/Deedle.DotNet.Interactive.Extension.fsproj : warning NU1605:  Deedle.DotNet.Interactive.Extension -> Microsoft.DotNet.Interactive.FSharp 1.0.0-beta.20574.9 -> Microsoft.DotNet.Interactive.FSharp.Internal 1.0.0-beta.20574.9 -> FSharp.Core (>= 5.0.1-beta.20552.1) \n"
     },
     "execution_count": 1,
     "metadata": {}
    },
    {
     "output_type": "execute_result",
     "data": {
      "text/plain": "/home/gregor/source/repos/Deedle.DotNet.Interactive.Extension/src/Deedle.DotNet.Interactive.Extension/Deedle.DotNet.Interactive.Extension.fsproj : warning NU1605:  Deedle.DotNet.Interactive.Extension -> FSharp.Core (>= 5.0.0)\n"
     },
     "execution_count": 1,
     "metadata": {}
    },
    {
     "output_type": "execute_result",
     "data": {
      "text/plain": "  Deedle.DotNet.Interactive.Extension -> /home/gregor/source/repos/Deedle.DotNet.Interactive.Extension/src/Deedle.DotNet.Interactive.Extension/bin/Debug/net5.0/Deedle.DotNet.Interactive.Extension.dll\n"
     },
     "execution_count": 1,
     "metadata": {}
    },
    {
     "output_type": "execute_result",
     "data": {
      "text/plain": "\n"
     },
     "execution_count": 1,
     "metadata": {}
    },
    {
     "output_type": "execute_result",
     "data": {
      "text/plain": "Build succeeded.\n"
     },
     "execution_count": 1,
     "metadata": {}
    },
    {
     "output_type": "execute_result",
     "data": {
      "text/plain": "\n"
     },
     "execution_count": 1,
     "metadata": {}
    },
    {
     "output_type": "execute_result",
     "data": {
      "text/plain": "/home/gregor/source/repos/Deedle.DotNet.Interactive.Extension/src/Deedle.DotNet.Interactive.Extension/Deedle.DotNet.Interactive.Extension.fsproj : warning NU1605: Detected package downgrade: FSharp.Core from 5.0.1-beta.20552.1 to 5.0.0. Reference the package directly from the project to select a different version.  [/home/gregor/source/repos/Deedle.DotNet.Interactive.Extension/Deedle.DotNet.Interactive.Extension.sln]\n"
     },
     "execution_count": 1,
     "metadata": {}
    },
    {
     "output_type": "execute_result",
     "data": {
      "text/plain": "/home/gregor/source/repos/Deedle.DotNet.Interactive.Extension/src/Deedle.DotNet.Interactive.Extension/Deedle.DotNet.Interactive.Extension.fsproj : warning NU1605:  Deedle.DotNet.Interactive.Extension -> Microsoft.DotNet.Interactive.FSharp 1.0.0-beta.20574.9 -> Microsoft.DotNet.Interactive.FSharp.Internal 1.0.0-beta.20574.9 -> FSharp.Core (>= 5.0.1-beta.20552.1)  [/home/gregor/source/repos/Deedle.DotNet.Interactive.Extension/Deedle.DotNet.Interactive.Extension.sln]\n"
     },
     "execution_count": 1,
     "metadata": {}
    },
    {
     "output_type": "execute_result",
     "data": {
      "text/plain": "/home/gregor/source/repos/Deedle.DotNet.Interactive.Extension/src/Deedle.DotNet.Interactive.Extension/Deedle.DotNet.Interactive.Extension.fsproj : warning NU1605:  Deedle.DotNet.Interactive.Extension -> FSharp.Core (>= 5.0.0) [/home/gregor/source/repos/Deedle.DotNet.Interactive.Extension/Deedle.DotNet.Interactive.Extension.sln]\n"
     },
     "execution_count": 1,
     "metadata": {}
    },
    {
     "output_type": "execute_result",
     "data": {
      "text/plain": "/home/gregor/source/repos/Deedle.DotNet.Interactive.Extension/src/Deedle.DotNet.Interactive.Extension/Deedle.DotNet.Interactive.Extension.fsproj : warning NU1605: Detected package downgrade: FSharp.Core from 5.0.1-beta.20552.1 to 5.0.0. Reference the package directly from the project to select a different version. \n"
     },
     "execution_count": 1,
     "metadata": {}
    },
    {
     "output_type": "execute_result",
     "data": {
      "text/plain": "/home/gregor/source/repos/Deedle.DotNet.Interactive.Extension/src/Deedle.DotNet.Interactive.Extension/Deedle.DotNet.Interactive.Extension.fsproj : warning NU1605:  Deedle.DotNet.Interactive.Extension -> Microsoft.DotNet.Interactive.FSharp 1.0.0-beta.20574.9 -> Microsoft.DotNet.Interactive.FSharp.Internal 1.0.0-beta.20574.9 -> FSharp.Core (>= 5.0.1-beta.20552.1) \n"
     },
     "execution_count": 1,
     "metadata": {}
    },
    {
     "output_type": "execute_result",
     "data": {
      "text/plain": "/home/gregor/source/repos/Deedle.DotNet.Interactive.Extension/src/Deedle.DotNet.Interactive.Extension/Deedle.DotNet.Interactive.Extension.fsproj : warning NU1605:  Deedle.DotNet.Interactive.Extension -> FSharp.Core (>= 5.0.0)\n"
     },
     "execution_count": 1,
     "metadata": {}
    },
    {
     "output_type": "execute_result",
     "data": {
      "text/plain": "    2 Warning(s)\n"
     },
     "execution_count": 1,
     "metadata": {}
    },
    {
     "output_type": "execute_result",
     "data": {
      "text/plain": "    0 Error(s)\n"
     },
     "execution_count": 1,
     "metadata": {}
    },
    {
     "output_type": "execute_result",
     "data": {
      "text/plain": "\n"
     },
     "execution_count": 1,
     "metadata": {}
    },
    {
     "output_type": "execute_result",
     "data": {
      "text/plain": "Time Elapsed 00:00:07.46\n"
     },
     "execution_count": 1,
     "metadata": {}
    },
    {
     "output_type": "execute_result",
     "data": {
      "text/plain": "Microsoft (R) Build Engine version 16.8.0+126527ff1 for .NET\n"
     },
     "execution_count": 1,
     "metadata": {}
    },
    {
     "output_type": "execute_result",
     "data": {
      "text/plain": "Copyright (C) Microsoft Corporation. All rights reserved.\n"
     },
     "execution_count": 1,
     "metadata": {}
    },
    {
     "output_type": "execute_result",
     "data": {
      "text/plain": "\n"
     },
     "execution_count": 1,
     "metadata": {}
    },
    {
     "output_type": "execute_result",
     "data": {
      "text/plain": "  Determining projects to restore...\n"
     },
     "execution_count": 1,
     "metadata": {}
    },
    {
     "output_type": "execute_result",
     "data": {
      "text/plain": "/home/gregor/source/repos/Deedle.DotNet.Interactive.Extension/src/Deedle.DotNet.Interactive.Extension/Deedle.DotNet.Interactive.Extension.fsproj : warning NU1605: Detected package downgrade: FSharp.Core from 5.0.1-beta.20552.1 to 5.0.0. Reference the package directly from the project to select a different version.  [/home/gregor/source/repos/Deedle.DotNet.Interactive.Extension/Deedle.DotNet.Interactive.Extension.sln]\n"
     },
     "execution_count": 1,
     "metadata": {}
    },
    {
     "output_type": "execute_result",
     "data": {
      "text/plain": "/home/gregor/source/repos/Deedle.DotNet.Interactive.Extension/src/Deedle.DotNet.Interactive.Extension/Deedle.DotNet.Interactive.Extension.fsproj : warning NU1605:  Deedle.DotNet.Interactive.Extension -> Microsoft.DotNet.Interactive.FSharp 1.0.0-beta.20574.9 -> Microsoft.DotNet.Interactive.FSharp.Internal 1.0.0-beta.20574.9 -> FSharp.Core (>= 5.0.1-beta.20552.1)  [/home/gregor/source/repos/Deedle.DotNet.Interactive.Extension/Deedle.DotNet.Interactive.Extension.sln]\n"
     },
     "execution_count": 1,
     "metadata": {}
    },
    {
     "output_type": "execute_result",
     "data": {
      "text/plain": "/home/gregor/source/repos/Deedle.DotNet.Interactive.Extension/src/Deedle.DotNet.Interactive.Extension/Deedle.DotNet.Interactive.Extension.fsproj : warning NU1605:  Deedle.DotNet.Interactive.Extension -> FSharp.Core (>= 5.0.0) [/home/gregor/source/repos/Deedle.DotNet.Interactive.Extension/Deedle.DotNet.Interactive.Extension.sln]\n"
     },
     "execution_count": 1,
     "metadata": {}
    },
    {
     "output_type": "execute_result",
     "data": {
      "text/plain": "  Restored /home/gregor/source/repos/Deedle.DotNet.Interactive.Extension/src/Deedle.DotNet.Interactive.Extension/Deedle.DotNet.Interactive.Extension.fsproj (in 526 ms).\n"
     },
     "execution_count": 1,
     "metadata": {}
    },
    {
     "output_type": "execute_result",
     "data": {
      "text/plain": "/home/gregor/source/repos/Deedle.DotNet.Interactive.Extension/src/Deedle.DotNet.Interactive.Extension/Deedle.DotNet.Interactive.Extension.fsproj : warning NU1605: Detected package downgrade: FSharp.Core from 5.0.1-beta.20552.1 to 5.0.0. Reference the package directly from the project to select a different version. \n"
     },
     "execution_count": 1,
     "metadata": {}
    },
    {
     "output_type": "execute_result",
     "data": {
      "text/plain": "/home/gregor/source/repos/Deedle.DotNet.Interactive.Extension/src/Deedle.DotNet.Interactive.Extension/Deedle.DotNet.Interactive.Extension.fsproj : warning NU1605:  Deedle.DotNet.Interactive.Extension -> Microsoft.DotNet.Interactive.FSharp 1.0.0-beta.20574.9 -> Microsoft.DotNet.Interactive.FSharp.Internal 1.0.0-beta.20574.9 -> FSharp.Core (>= 5.0.1-beta.20552.1) \n"
     },
     "execution_count": 1,
     "metadata": {}
    },
    {
     "output_type": "execute_result",
     "data": {
      "text/plain": "/home/gregor/source/repos/Deedle.DotNet.Interactive.Extension/src/Deedle.DotNet.Interactive.Extension/Deedle.DotNet.Interactive.Extension.fsproj : warning NU1605:  Deedle.DotNet.Interactive.Extension -> FSharp.Core (>= 5.0.0)\n"
     },
     "execution_count": 1,
     "metadata": {}
    },
    {
     "output_type": "execute_result",
     "data": {
      "text/plain": "  Deedle.DotNet.Interactive.Extension -> /home/gregor/source/repos/Deedle.DotNet.Interactive.Extension/src/Deedle.DotNet.Interactive.Extension/bin/Debug/net5.0/Deedle.DotNet.Interactive.Extension.dll\n"
     },
     "execution_count": 1,
     "metadata": {}
    },
    {
     "output_type": "execute_result",
     "data": {
      "text/plain": "/home/gregor/source/repos/Deedle.DotNet.Interactive.Extension/src/Deedle.DotNet.Interactive.Extension/Deedle.DotNet.Interactive.Extension.fsproj : warning NU1605: Detected package downgrade: FSharp.Core from 5.0.1-beta.20552.1 to 5.0.0. Reference the package directly from the project to select a different version. \n"
     },
     "execution_count": 1,
     "metadata": {}
    },
    {
     "output_type": "execute_result",
     "data": {
      "text/plain": "/home/gregor/source/repos/Deedle.DotNet.Interactive.Extension/src/Deedle.DotNet.Interactive.Extension/Deedle.DotNet.Interactive.Extension.fsproj : warning NU1605:  Deedle.DotNet.Interactive.Extension -> Microsoft.DotNet.Interactive.FSharp 1.0.0-beta.20574.9 -> Microsoft.DotNet.Interactive.FSharp.Internal 1.0.0-beta.20574.9 -> FSharp.Core (>= 5.0.1-beta.20552.1) \n"
     },
     "execution_count": 1,
     "metadata": {}
    },
    {
     "output_type": "execute_result",
     "data": {
      "text/plain": "/home/gregor/source/repos/Deedle.DotNet.Interactive.Extension/src/Deedle.DotNet.Interactive.Extension/Deedle.DotNet.Interactive.Extension.fsproj : warning NU1605:  Deedle.DotNet.Interactive.Extension -> FSharp.Core (>= 5.0.0)\n"
     },
     "execution_count": 1,
     "metadata": {}
    },
    {
     "output_type": "execute_result",
     "data": {
      "text/plain": "/home/gregor/source/repos/Deedle.DotNet.Interactive.Extension/src/Deedle.DotNet.Interactive.Extension/Deedle.DotNet.Interactive.Extension.fsproj : warning NU1605: Detected package downgrade: FSharp.Core from 5.0.1-beta.20552.1 to 5.0.0. Reference the package directly from the project to select a different version. \n"
     },
     "execution_count": 1,
     "metadata": {}
    },
    {
     "output_type": "execute_result",
     "data": {
      "text/plain": "/home/gregor/source/repos/Deedle.DotNet.Interactive.Extension/src/Deedle.DotNet.Interactive.Extension/Deedle.DotNet.Interactive.Extension.fsproj : warning NU1605:  Deedle.DotNet.Interactive.Extension -> Microsoft.DotNet.Interactive.FSharp 1.0.0-beta.20574.9 -> Microsoft.DotNet.Interactive.FSharp.Internal 1.0.0-beta.20574.9 -> FSharp.Core (>= 5.0.1-beta.20552.1) \n"
     },
     "execution_count": 1,
     "metadata": {}
    },
    {
     "output_type": "execute_result",
     "data": {
      "text/plain": "/home/gregor/source/repos/Deedle.DotNet.Interactive.Extension/src/Deedle.DotNet.Interactive.Extension/Deedle.DotNet.Interactive.Extension.fsproj : warning NU1605:  Deedle.DotNet.Interactive.Extension -> FSharp.Core (>= 5.0.0)\n"
     },
     "execution_count": 1,
     "metadata": {}
    },
    {
     "output_type": "execute_result",
     "data": {
      "text/plain": "  Successfully created package '/home/gregor/source/repos/Deedle.DotNet.Interactive.Extension/src/Deedle.DotNet.Interactive.Extension/bin/Debug/Deedle.DotNet.Interactive.Extension.0.1.0-dev12.nupkg'.\n"
     },
     "execution_count": 1,
     "metadata": {}
    },
    {
     "output_type": "execute_result",
     "data": {
      "text/plain": "\n"
     },
     "execution_count": 1,
     "metadata": {}
    },
    {
     "output_type": "execute_result",
     "data": {
      "text/plain": "\n"
     },
     "execution_count": 1,
     "metadata": {}
    },
    {
     "output_type": "execute_result",
     "data": {
      "text/plain": "    Directory: /home/gregor/source/repos/Deedle.DotNet.Interactive.Extension/src/Deedle.DotNet.Inte\n"
     },
     "execution_count": 1,
     "metadata": {}
    },
    {
     "output_type": "execute_result",
     "data": {
      "text/plain": "ractive.Extension/bin/Debug\n"
     },
     "execution_count": 1,
     "metadata": {}
    },
    {
     "output_type": "execute_result",
     "data": {
      "text/plain": "\n"
     },
     "execution_count": 1,
     "metadata": {}
    },
    {
     "output_type": "execute_result",
     "data": {
      "text/plain": "Mode                 LastWriteTime         Length Name\n"
     },
     "execution_count": 1,
     "metadata": {}
    },
    {
     "output_type": "execute_result",
     "data": {
      "text/plain": "----                 -------------         ------ ----\n"
     },
     "execution_count": 1,
     "metadata": {}
    },
    {
     "output_type": "execute_result",
     "data": {
      "text/plain": "-----          11/27/2020    16:14          29483 Deedle.DotNet.Interactive.Extension.0.1.0-dev12.n\n"
     },
     "execution_count": 1,
     "metadata": {}
    },
    {
     "output_type": "execute_result",
     "data": {
      "text/plain": "                                                  upkg\n"
     },
     "execution_count": 1,
     "metadata": {}
    },
    {
     "output_type": "execute_result",
     "data": {
      "text/plain": "\n"
     },
     "execution_count": 1,
     "metadata": {}
    }
   ]
  },
  {
   "cell_type": "code",
   "execution_count": 1,
   "metadata": {},
   "source": [
    "#!fsharp\n",
    "#r \"nuget: Deedle\""
   ],
   "outputs": [
    {
     "output_type": "execute_result",
     "data": {
      "text/plain": "Installed package Deedle version 2.3.0"
     },
     "execution_count": 1,
     "metadata": {}
    }
   ]
  },
  {
   "cell_type": "code",
   "execution_count": 1,
   "metadata": {},
   "source": [
    "#!fsharp\n",
    "#i \"nuget: /home/gregor/source/repos/Deedle.DotNet.Interactive.Extension/src/Deedle.DotNet.Interactive.Extension/bin/Debug\"\n",
    "#r \"nuget: Deedle.DotNet.Interactive.Extension,0.1.0-dev12\""
   ],
   "outputs": [
    {
     "output_type": "execute_result",
     "data": {
      "text/html": "<div><strong>Restore sources</strong><ul><li><span>https://pkgs.dev.azure.com/dnceng/public/_packaging/dotnet-tools/nuget/v3/index.json</span></li><li><span> /home/gregor/source/repos/Deedle.DotNet.Interactive.Extension/src/Deedle.DotNet.Interactive.Extension/bin/Debug</span></li></ul></div>"
     },
     "execution_count": 1,
     "metadata": {}
    },
    {
     "output_type": "execute_result",
     "data": {
      "text/plain": "Installed package Deedle.DotNet.Interactive.Extension version 0.1.0-dev12"
     },
     "execution_count": 1,
     "metadata": {}
    },
    {
     "output_type": "execute_result",
     "data": {
      "text/plain": "Loaded Deedle.DotNet.Interactive.Extension.DeedleFormatterExtension"
     },
     "execution_count": 1,
     "metadata": {}
    },
    {
     "output_type": "execute_result",
     "data": {
      "text/markdown": "Added DeedleFormatterExtension including formatters for Frame and Series"
     },
     "execution_count": 1,
     "metadata": {}
    }
   ]
  },
  {
   "cell_type": "code",
   "execution_count": 1,
   "metadata": {},
   "source": [
    "#!fsharp\n",
    "open Deedle"
   ],
   "outputs": []
  },
  {
   "cell_type": "code",
   "execution_count": 1,
   "metadata": {},
   "source": [
    "#!fsharp\n",
    "let seriesA =\n",
    "    [1..100]\n",
    "    |> Series.ofValues\n",
    "\n",
    "seriesA"
   ],
   "outputs": [
    {
     "output_type": "execute_result",
     "data": {
      "text/html": "<div><table><caption>A series: 100 values. Key type: System.Int32 Value type: System.Object</caption><thead><thead><th>Keys</th><th>0</th><th>1</th><th>2</th><th>3</th><th>4</th><th>5</th><th>6</th><th>7</th><th>8</th><th>9</th><th>10</th><th>11</th><th>12</th><th>13</th><th>14</th><th>...</th></thead></thead><tbody><td>Values</td><td>1</td><td>2</td><td>3</td><td>4</td><td>5</td><td>6</td><td>7</td><td>8</td><td>9</td><td>10</td><td>11</td><td>12</td><td>13</td><td>14</td><td>15</td><th>...</th></tbody></table></div>"
     },
     "execution_count": 1,
     "metadata": {}
    }
   ]
  },
  {
   "cell_type": "code",
   "execution_count": 1,
   "metadata": {},
   "source": [
    "#!fsharp\n",
    "let seriesB =\n",
    "    List.init 100 (fun i ->\n",
    "        let currentNumber = i + 1\n",
    "        if currentNumber % 2 <> 0 then (i, None) else (i, Some currentNumber))\n",
    "    |> Series.ofOptionalObservations\n",
    "\n",
    "seriesB"
   ],
   "outputs": [
    {
     "output_type": "execute_result",
     "data": {
      "text/html": "<div><table><caption>A series: 100 values. Key type: System.Int32 Value type: System.Object</caption><thead><thead><th>Keys</th><th>0</th><th>1</th><th>2</th><th>3</th><th>4</th><th>5</th><th>6</th><th>7</th><th>8</th><th>9</th><th>10</th><th>11</th><th>12</th><th>13</th><th>14</th><th>...</th></thead></thead><tbody><td>Values</td><td>&lt;missing&gt;</td><td>2</td><td>&lt;missing&gt;</td><td>4</td><td>&lt;missing&gt;</td><td>6</td><td>&lt;missing&gt;</td><td>8</td><td>&lt;missing&gt;</td><td>10</td><td>&lt;missing&gt;</td><td>12</td><td>&lt;missing&gt;</td><td>14</td><td>&lt;missing&gt;</td><th>...</th></tbody></table></div>"
     },
     "execution_count": 1,
     "metadata": {}
    }
   ]
  },
  {
   "cell_type": "code",
   "execution_count": 1,
   "metadata": {},
   "source": [
    "#!fsharp\n",
    "let frame =\n",
    "    [ (\"A\", seriesA); (\"B\", seriesB) ]\n",
    "    |> Frame.ofColumns\n",
    "\n",
    "frame"
   ],
   "outputs": [
    {
     "output_type": "execute_result",
     "data": {
      "text/html": "<div><table><caption>A frame: 100 x 2</caption><thead><tr><th></th><th>A</th><th>B</th></tr><tr><th></th><th>System.Int32</th><th>System.Int32</th></tr></thead><tbody><tr><td><div class=\"dni-plaintext\">0</div></td><td><div class=\"dni-plaintext\">1</div></td><td><div class=\"dni-plaintext\">N/A</div></td></tr><tr><td><div class=\"dni-plaintext\">1</div></td><td><div class=\"dni-plaintext\">2</div></td><td><div class=\"dni-plaintext\">2</div></td></tr><tr><td><div class=\"dni-plaintext\">2</div></td><td><div class=\"dni-plaintext\">3</div></td><td><div class=\"dni-plaintext\">N/A</div></td></tr><tr><td><div class=\"dni-plaintext\">3</div></td><td><div class=\"dni-plaintext\">4</div></td><td><div class=\"dni-plaintext\">4</div></td></tr><tr><td><div class=\"dni-plaintext\">4</div></td><td><div class=\"dni-plaintext\">5</div></td><td><div class=\"dni-plaintext\">N/A</div></td></tr><tr><td><div class=\"dni-plaintext\">5</div></td><td><div class=\"dni-plaintext\">6</div></td><td><div class=\"dni-plaintext\">6</div></td></tr><tr><td><div class=\"dni-plaintext\">6</div></td><td><div class=\"dni-plaintext\">7</div></td><td><div class=\"dni-plaintext\">N/A</div></td></tr><tr><td><div class=\"dni-plaintext\">7</div></td><td><div class=\"dni-plaintext\">8</div></td><td><div class=\"dni-plaintext\">8</div></td></tr><tr><td><div class=\"dni-plaintext\">8</div></td><td><div class=\"dni-plaintext\">9</div></td><td><div class=\"dni-plaintext\">N/A</div></td></tr><tr><td><div class=\"dni-plaintext\">9</div></td><td><div class=\"dni-plaintext\">10</div></td><td><div class=\"dni-plaintext\">10</div></td></tr><tr><td><div class=\"dni-plaintext\">10</div></td><td><div class=\"dni-plaintext\">11</div></td><td><div class=\"dni-plaintext\">N/A</div></td></tr><tr><td><div class=\"dni-plaintext\">11</div></td><td><div class=\"dni-plaintext\">12</div></td><td><div class=\"dni-plaintext\">12</div></td></tr><tr><td><div class=\"dni-plaintext\">12</div></td><td><div class=\"dni-plaintext\">13</div></td><td><div class=\"dni-plaintext\">N/A</div></td></tr><tr><td><div class=\"dni-plaintext\">13</div></td><td><div class=\"dni-plaintext\">14</div></td><td><div class=\"dni-plaintext\">14</div></td></tr><tr><td><div class=\"dni-plaintext\">14</div></td><td><div class=\"dni-plaintext\">15</div></td><td><div class=\"dni-plaintext\">N/A</div></td></tr><tr><td><div class=\"dni-plaintext\">15</div></td><td><div class=\"dni-plaintext\">16</div></td><td><div class=\"dni-plaintext\">16</div></td></tr><tr><td><div class=\"dni-plaintext\">16</div></td><td><div class=\"dni-plaintext\">17</div></td><td><div class=\"dni-plaintext\">N/A</div></td></tr><tr><td><div class=\"dni-plaintext\">17</div></td><td><div class=\"dni-plaintext\">18</div></td><td><div class=\"dni-plaintext\">18</div></td></tr><tr><td><div class=\"dni-plaintext\">18</div></td><td><div class=\"dni-plaintext\">19</div></td><td><div class=\"dni-plaintext\">N/A</div></td></tr><tr><td><div class=\"dni-plaintext\">19</div></td><td><div class=\"dni-plaintext\">20</div></td><td><div class=\"dni-plaintext\">20</div></td></tr><tr><td>...</td><td>...</td><td>...</td></tr></tbody></table><div><p><span>...with 80 additional rows</span></p></div></div>"
     },
     "execution_count": 1,
     "metadata": {}
    }
   ]
  }
 ],
 "metadata": {
  "kernelspec": {
   "display_name": ".NET (C#)",
   "language": "C#",
   "name": ".net-csharp"
  },
  "language_info": {
   "file_extension": ".cs",
   "mimetype": "text/x-csharp",
   "name": "C#",
   "pygments_lexer": "csharp",
   "version": "8.0"
  }
 },
 "nbformat": 4,
 "nbformat_minor": 4
}